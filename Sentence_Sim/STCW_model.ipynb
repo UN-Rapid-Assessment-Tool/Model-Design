{
 "cells": [
  {
   "cell_type": "code",
   "execution_count": 26,
   "metadata": {
    "collapsed": true
   },
   "outputs": [
    {
     "data": {
      "text/plain": [
       "'\\n    count = len(concept_x)\\n    total = 0\\n    \\n    m = len(concept_p)\\n    n = len(concept_r)\\n\\n    if count == 0:\\n        sim_score_0 = 0\\n\\n    elif count % 2 == 0 or count == 1:\\n        for position, word in enumerate(concept_x):\\n            total += abs(position - concept_y.index(dic[word]))\\n\\n        sim_score_0 = 1 - 2 * total / count ** 2\\n\\n    else:\\n        for position, word in enumerate(concept_x):\\n            total += abs(position - concept_y.index(dic[word]))\\n\\n        sim_score_0 = 1 - 2 * total / (count ** 2 - 1)\\n\\n    S = ((m + n) / (2 * m * n)) * (count * (1 - w * (1 - sim_score_0)))\\n\\n    return S\\n'"
      ]
     },
     "execution_count": 26,
     "metadata": {},
     "output_type": "execute_result"
    }
   ],
   "source": [
    "import nltk\n",
    "import re\n",
    "from nltk.corpus import wordnet as wn\n",
    "from itertools import product\n",
    "from nltk.corpus import wordnet_ic\n",
    "\n",
    "\n",
    "def get_sim_score(word_1, word_2, info_content):\n",
    "    \"\"\" \n",
    "    Calculate the highest path similarity among all pairs. \n",
    "    \"\"\"\n",
    "\n",
    "    if word_1 == word_2:\n",
    "        return 1\n",
    "    else:\n",
    "        max_sim = 0.0\n",
    "        synsets_1 = wn.synsets(word_1)\n",
    "        synsets_2 = wn.synsets(word_2)\n",
    "        if synsets_1 and synsets_2:\n",
    "            for synset_1, synset_2 in product(synsets_1, synsets_2):\n",
    "                try:\n",
    "                    #sim = wn.lin_similarity(synset_1, synset_2, info_content)\n",
    "                    sim = wn.jcn_similarity(synset_1, synset_2, info_content)\n",
    "                    #sim = wn.wup_similarity(synset_1, synset_2)\n",
    "                    if sim > max_sim:\n",
    "                        max_sim = sim\n",
    "                except:\n",
    "                    continue\n",
    "\n",
    "            return max_sim\n",
    "        return max_sim\n",
    "\n",
    "def remove_dup(seq):\n",
    "    seen = set()\n",
    "    return [x for x in seq if not (x in seen or seen.add(x))]\n",
    "\n",
    "\n",
    "def mySim(text1, text2, sigma=0.85, w=0.3, corpus='ic-brown-resnik.dat'):\n",
    "    # set stop words\n",
    "    stopwords = nltk.corpus.stopwords.words('english')\n",
    "    # set variables\n",
    "    x = []\n",
    "    y = []\n",
    "    dic = {}\n",
    "    info_content = wordnet_ic.ic(corpus)\n",
    "\n",
    "    # clean raw text\n",
    "    text1 = re.sub('[^a-zA-Z]', ' ', text1).lower()\n",
    "    text2 = re.sub('[^a-zA-Z]', ' ', text2).lower()\n",
    "\n",
    "    # tokenize inputs into vectors\n",
    "    token_p = nltk.word_tokenize(text1, language='english')\n",
    "    token_r = nltk.word_tokenize(text2, language='english')\n",
    "\n",
    "    concept_p = [words for words in token_p if words not in stopwords]\n",
    "    concept_r = [words for words in token_r if words not in stopwords]\n",
    "\n",
    "    \n",
    "    \n",
    "    # pos the tokens and n-grams\n",
    "    pos_p = [word for word, tag in nltk.pos_tag(concept_p) if tag.startswith('NN') or tag.startswith('JJ')]\n",
    "    pos_p.extend([' '.join(words).strip() for words in nltk.ngrams(pos_p, 2)])\n",
    "    \n",
    "    pos_r = [word for word, tag in nltk.pos_tag(concept_r) if tag.startswith('NN') or tag.startswith('JJ')]\n",
    "    pos_r.extend([' '.join(words).strip() for words in nltk.ngrams(pos_r, 2)])\n",
    "    \n",
    "    #print(pos_p, pos_r)\n",
    "\n",
    "\n",
    "    for w1, w2 in product(pos_p, pos_r):\n",
    "        sim = 0\n",
    "        w1_set = set(w1.split())\n",
    "        w2_set = set(w2.split())\n",
    "        for t1, t2 in product(w1_set, w2_set):\n",
    "            sim += get_sim_score(t1, t2, info_content)\n",
    "            \n",
    "            \n",
    "        if sim >= sigma:\n",
    "            x.append(w1)\n",
    "            y.append(w2)\n",
    "            dic[w1] = w2\n",
    "            #print(sim, '\\t\\t', w1_set, '|',  w2_set)\n",
    "\n",
    "    concept_x = [words for words in pos_p if words in x]\n",
    "    concept_y = [words for words in pos_r if words in y]\n",
    "\n",
    "    print(concept_x, concept_y)\n",
    "    \n",
    "    if concept_x:\n",
    "        return 1\n",
    "    else:\n",
    "        return 0\n",
    "\n",
    "\n",
    "'''\n",
    "    count = len(concept_x)\n",
    "    total = 0\n",
    "    \n",
    "    m = len(concept_p)\n",
    "    n = len(concept_r)\n",
    "\n",
    "    if count == 0:\n",
    "        sim_score_0 = 0\n",
    "\n",
    "    elif count % 2 == 0 or count == 1:\n",
    "        for position, word in enumerate(concept_x):\n",
    "            total += abs(position - concept_y.index(dic[word]))\n",
    "\n",
    "        sim_score_0 = 1 - 2 * total / count ** 2\n",
    "\n",
    "    else:\n",
    "        for position, word in enumerate(concept_x):\n",
    "            total += abs(position - concept_y.index(dic[word]))\n",
    "\n",
    "        sim_score_0 = 1 - 2 * total / (count ** 2 - 1)\n",
    "\n",
    "    S = ((m + n) / (2 * m * n)) * (count * (1 - w * (1 - sim_score_0)))\n",
    "\n",
    "    return S\n",
    "'''"
   ]
  },
  {
   "cell_type": "code",
   "execution_count": 3,
   "metadata": {
    "collapsed": true
   },
   "outputs": [
    {
     "name": "stdout",
     "output_type": "stream",
     "text": [
      "['many', 'malin', 'best', 'player', 'pingpong', 'history', 'many malin', 'malin best', 'best player', 'player pingpong', 'pingpong history'] ['malin', 'best', 'pingpong', 'players', 'malin best', 'best pingpong', 'pingpong players']\n"
     ]
    },
    {
     "name": "stdout",
     "output_type": "stream",
     "text": [
      "0.0 many | malin \t\t {'many'} | {'malin'}\n0.0 many | best \t\t {'many'} | {'best'}\n0.0 many | pingpong \t\t {'many'} | {'pingpong'}\n0.0 many | players \t\t {'many'} | {'players'}\n0.0 many | malin \t\t {'many'} | {'malin', 'best'}\n0.0 many | best \t\t {'many'} | {'malin', 'best'}\n0.0 many | best \t\t {'many'} | {'best', 'pingpong'}\n0.0 many | pingpong \t\t {'many'} | {'best', 'pingpong'}\n0.0 many | players \t\t {'many'} | {'players', 'pingpong'}\n0.0 many | pingpong \t\t {'many'} | {'players', 'pingpong'}\n1 malin | malin \t\t {'malin'} | {'malin'}\n0.0 malin | best \t\t {'malin'} | {'best'}\n0.0 malin | pingpong \t\t {'malin'} | {'pingpong'}\n0.0 malin | players \t\t {'malin'} | {'players'}\n1 malin | malin \t\t {'malin'} | {'malin', 'best'}\n1.0 malin | best \t\t {'malin'} | {'malin', 'best'}\n0.0 malin | best \t\t {'malin'} | {'best', 'pingpong'}\n0.0 malin | pingpong \t\t {'malin'} | {'best', 'pingpong'}\n0.0 malin | players \t\t {'malin'} | {'players', 'pingpong'}\n0.0 malin | pingpong \t\t {'malin'} | {'players', 'pingpong'}\n0.0 best | malin \t\t {'best'} | {'malin'}\n1 best | best \t\t {'best'} | {'best'}\n0.0 best | pingpong \t\t {'best'} | {'pingpong'}\n0.09319338523851901 best | players \t\t {'best'} | {'players'}\n0.0 best | malin \t\t {'best'} | {'malin', 'best'}\n1.0 best | best \t\t {'best'} | {'malin', 'best'}\n1 best | best \t\t {'best'} | {'best', 'pingpong'}\n1.0 best | pingpong \t\t {'best'} | {'best', 'pingpong'}\n0.09319338523851901 best | players \t\t {'best'} | {'players', 'pingpong'}\n0.09319338523851901 best | pingpong \t\t {'best'} | {'players', 'pingpong'}\n0.0 player | malin \t\t {'player'} | {'malin'}\n0.09319338523851901 player | best \t\t {'player'} | {'best'}\n0.0 player | pingpong \t\t {'player'} | {'pingpong'}\n1e+300 player | players \t\t {'player'} | {'players'}\n0.0 player | malin \t\t {'player'} | {'malin', 'best'}\n0.09319338523851901 player | best \t\t {'player'} | {'malin', 'best'}\n0.09319338523851901 player | best \t\t {'player'} | {'best', 'pingpong'}\n0.09319338523851901 player | pingpong \t\t {'player'} | {'best', 'pingpong'}\n1e+300 player | players \t\t {'player'} | {'players', 'pingpong'}\n1e+300 player | pingpong \t\t {'player'} | {'players', 'pingpong'}\n0.0 pingpong | malin \t\t {'pingpong'} | {'malin'}\n0.0 pingpong | best \t\t {'pingpong'} | {'best'}\n1 pingpong | pingpong \t\t {'pingpong'} | {'pingpong'}\n0.0 pingpong | players \t\t {'pingpong'} | {'players'}\n0.0 pingpong | malin \t\t {'pingpong'} | {'malin', 'best'}\n0.0 pingpong | best \t\t {'pingpong'} | {'malin', 'best'}\n0.0 pingpong | best \t\t {'pingpong'} | {'best', 'pingpong'}\n1.0 pingpong | pingpong \t\t {'pingpong'} | {'best', 'pingpong'}\n0.0 pingpong | players \t\t {'pingpong'} | {'players', 'pingpong'}\n1.0 pingpong | pingpong \t\t {'pingpong'} | {'players', 'pingpong'}\n0.0 history | malin \t\t {'history'} | {'malin'}\n0.07124993660340509 history | best \t\t {'history'} | {'best'}\n0.0 history | pingpong \t\t {'history'} | {'pingpong'}\n0.06920330926426592 history | players \t\t {'history'} | {'players'}\n0.0 history | malin \t\t {'history'} | {'malin', 'best'}\n0.07124993660340509 history | best \t\t {'history'} | {'malin', 'best'}\n0.07124993660340509 history | best \t\t {'history'} | {'best', 'pingpong'}\n0.07124993660340509 history | pingpong \t\t {'history'} | {'best', 'pingpong'}\n0.06920330926426592 history | players \t\t {'history'} | {'players', 'pingpong'}\n0.06920330926426592 history | pingpong \t\t {'history'} | {'players', 'pingpong'}\n1 malin | malin \t\t {'malin', 'many'} | {'malin'}\n1.0 many | malin \t\t {'malin', 'many'} | {'malin'}\n0.0 malin | best \t\t {'malin', 'many'} | {'best'}\n0.0 many | best \t\t {'malin', 'many'} | {'best'}\n0.0 malin | pingpong \t\t {'malin', 'many'} | {'pingpong'}\n0.0 many | pingpong \t\t {'malin', 'many'} | {'pingpong'}\n0.0 malin | players \t\t {'malin', 'many'} | {'players'}\n0.0 many | players \t\t {'malin', 'many'} | {'players'}\n1 malin | malin \t\t {'malin', 'many'} | {'malin', 'best'}\n1.0 malin | best \t\t {'malin', 'many'} | {'malin', 'best'}\n1.0 many | malin \t\t {'malin', 'many'} | {'malin', 'best'}\n1.0 many | best \t\t {'malin', 'many'} | {'malin', 'best'}\n0.0 malin | best \t\t {'malin', 'many'} | {'best', 'pingpong'}\n0.0 malin | pingpong \t\t {'malin', 'many'} | {'best', 'pingpong'}\n0.0 many | best \t\t {'malin', 'many'} | {'best', 'pingpong'}\n0.0 many | pingpong \t\t {'malin', 'many'} | {'best', 'pingpong'}\n0.0 malin | players \t\t {'malin', 'many'} | {'players', 'pingpong'}\n0.0 malin | pingpong \t\t {'malin', 'many'} | {'players', 'pingpong'}\n0.0 many | players \t\t {'malin', 'many'} | {'players', 'pingpong'}\n0.0 many | pingpong \t\t {'malin', 'many'} | {'players', 'pingpong'}\n1 malin | malin \t\t {'malin', 'best'} | {'malin'}\n1.0 best | malin \t\t {'malin', 'best'} | {'malin'}\n0.0 malin | best \t\t {'malin', 'best'} | {'best'}\n1.0 best | best \t\t {'malin', 'best'} | {'best'}\n0.0 malin | pingpong \t\t {'malin', 'best'} | {'pingpong'}\n0.0 best | pingpong \t\t {'malin', 'best'} | {'pingpong'}\n0.0 malin | players \t\t {'malin', 'best'} | {'players'}\n0.09319338523851901 best | players \t\t {'malin', 'best'} | {'players'}\n1 malin | malin \t\t {'malin', 'best'} | {'malin', 'best'}\n1.0 malin | best \t\t {'malin', 'best'} | {'malin', 'best'}\n1.0 best | malin \t\t {'malin', 'best'} | {'malin', 'best'}\n2.0 best | best \t\t {'malin', 'best'} | {'malin', 'best'}\n0.0 malin | best \t\t {'malin', 'best'} | {'best', 'pingpong'}\n0.0 malin | pingpong \t\t {'malin', 'best'} | {'best', 'pingpong'}\n1.0 best | best \t\t {'malin', 'best'} | {'best', 'pingpong'}\n1.0 best | pingpong \t\t {'malin', 'best'} | {'best', 'pingpong'}\n0.0 malin | players \t\t {'malin', 'best'} | {'players', 'pingpong'}\n0.0 malin | pingpong \t\t {'malin', 'best'} | {'players', 'pingpong'}\n0.09319338523851901 best | players \t\t {'malin', 'best'} | {'players', 'pingpong'}\n0.09319338523851901 best | pingpong \t\t {'malin', 'best'} | {'players', 'pingpong'}\n0.0 best | malin \t\t {'best', 'player'} | {'malin'}\n0.0 player | malin \t\t {'best', 'player'} | {'malin'}\n1 best | best \t\t {'best', 'player'} | {'best'}\n1.093193385238519 player | best \t\t {'best', 'player'} | {'best'}\n0.0 best | pingpong \t\t {'best', 'player'} | {'pingpong'}\n0.0 player | pingpong \t\t {'best', 'player'} | {'pingpong'}\n0.09319338523851901 best | players \t\t {'best', 'player'} | {'players'}\n1e+300 player | players \t\t {'best', 'player'} | {'players'}\n0.0 best | malin \t\t {'best', 'player'} | {'malin', 'best'}\n1.0 best | best \t\t {'best', 'player'} | {'malin', 'best'}\n1.0 player | malin \t\t {'best', 'player'} | {'malin', 'best'}\n1.093193385238519 player | best \t\t {'best', 'player'} | {'malin', 'best'}\n1 best | best \t\t {'best', 'player'} | {'best', 'pingpong'}\n1.0 best | pingpong \t\t {'best', 'player'} | {'best', 'pingpong'}\n1.093193385238519 player | best \t\t {'best', 'player'} | {'best', 'pingpong'}\n1.093193385238519 player | pingpong \t\t {'best', 'player'} | {'best', 'pingpong'}\n0.09319338523851901 best | players \t\t {'best', 'player'} | {'players', 'pingpong'}\n0.09319338523851901 best | pingpong \t\t {'best', 'player'} | {'players', 'pingpong'}\n1e+300 player | players \t\t {'best', 'player'} | {'players', 'pingpong'}\n1e+300 player | pingpong \t\t {'best', 'player'} | {'players', 'pingpong'}\n0.0 pingpong | malin \t\t {'pingpong', 'player'} | {'malin'}\n0.0 player | malin \t\t {'pingpong', 'player'} | {'malin'}\n0.0 pingpong | best \t\t {'pingpong', 'player'} | {'best'}\n0.09319338523851901 player | best \t\t {'pingpong', 'player'} | {'best'}\n1 pingpong | pingpong \t\t {'pingpong', 'player'} | {'pingpong'}\n1.0 player | pingpong \t\t {'pingpong', 'player'} | {'pingpong'}\n0.0 pingpong | players \t\t {'pingpong', 'player'} | {'players'}\n1e+300 player | players \t\t {'pingpong', 'player'} | {'players'}\n"
     ]
    },
    {
     "name": "stdout",
     "output_type": "stream",
     "text": [
      "0.0 pingpong | malin \t\t {'pingpong', 'player'} | {'malin', 'best'}\n0.0 pingpong | best \t\t {'pingpong', 'player'} | {'malin', 'best'}\n0.0 player | malin \t\t {'pingpong', 'player'} | {'malin', 'best'}\n0.09319338523851901 player | best \t\t {'pingpong', 'player'} | {'malin', 'best'}\n0.0 pingpong | best \t\t {'pingpong', 'player'} | {'best', 'pingpong'}\n1.0 pingpong | pingpong \t\t {'pingpong', 'player'} | {'best', 'pingpong'}\n1.093193385238519 player | best \t\t {'pingpong', 'player'} | {'best', 'pingpong'}\n1.093193385238519 player | pingpong \t\t {'pingpong', 'player'} | {'best', 'pingpong'}\n0.0 pingpong | players \t\t {'pingpong', 'player'} | {'players', 'pingpong'}\n1.0 pingpong | pingpong \t\t {'pingpong', 'player'} | {'players', 'pingpong'}\n1e+300 player | players \t\t {'pingpong', 'player'} | {'players', 'pingpong'}\n1e+300 player | pingpong \t\t {'pingpong', 'player'} | {'players', 'pingpong'}\n0.0 history | malin \t\t {'history', 'pingpong'} | {'malin'}\n0.0 pingpong | malin \t\t {'history', 'pingpong'} | {'malin'}\n0.07124993660340509 history | best \t\t {'history', 'pingpong'} | {'best'}\n0.07124993660340509 pingpong | best \t\t {'history', 'pingpong'} | {'best'}\n0.0 history | pingpong \t\t {'history', 'pingpong'} | {'pingpong'}\n1.0 pingpong | pingpong \t\t {'history', 'pingpong'} | {'pingpong'}\n0.06920330926426592 history | players \t\t {'history', 'pingpong'} | {'players'}\n0.06920330926426592 pingpong | players \t\t {'history', 'pingpong'} | {'players'}\n0.0 history | malin \t\t {'history', 'pingpong'} | {'malin', 'best'}\n0.07124993660340509 history | best \t\t {'history', 'pingpong'} | {'malin', 'best'}\n0.07124993660340509 pingpong | malin \t\t {'history', 'pingpong'} | {'malin', 'best'}\n0.07124993660340509 pingpong | best \t\t {'history', 'pingpong'} | {'malin', 'best'}\n0.07124993660340509 history | best \t\t {'history', 'pingpong'} | {'best', 'pingpong'}\n0.07124993660340509 history | pingpong \t\t {'history', 'pingpong'} | {'best', 'pingpong'}\n0.07124993660340509 pingpong | best \t\t {'history', 'pingpong'} | {'best', 'pingpong'}\n1.0712499366034052 pingpong | pingpong \t\t {'history', 'pingpong'} | {'best', 'pingpong'}\n0.06920330926426592 history | players \t\t {'history', 'pingpong'} | {'players', 'pingpong'}\n0.06920330926426592 history | pingpong \t\t {'history', 'pingpong'} | {'players', 'pingpong'}\n0.06920330926426592 pingpong | players \t\t {'history', 'pingpong'} | {'players', 'pingpong'}\n1.0692033092642659 pingpong | pingpong \t\t {'history', 'pingpong'} | {'players', 'pingpong'}\n['malin', 'best', 'player', 'pingpong', 'many malin', 'malin best', 'best player', 'player pingpong', 'pingpong history'] ['malin', 'best', 'pingpong', 'players', 'malin best', 'best pingpong', 'pingpong players']\n"
     ]
    },
    {
     "data": {
      "text/plain": [
       "1"
      ]
     },
     "execution_count": 3,
     "metadata": {},
     "output_type": "execute_result"
    }
   ],
   "source": [
    "mySim('Many consider Malin as the best player in PingPong history', 'Malin is one of the best PingPong players')"
   ]
  },
  {
   "cell_type": "code",
   "execution_count": 24,
   "metadata": {
    "collapsed": false
   },
   "outputs": [],
   "source": [
    "from nltk import tokenize\n",
    "with open('/Users/maxwelllee54/GitHubs/Rapid_Assessment_Tools/Bhutan_Input.txt') as f:\n",
    "    data = f.read()\n",
    "    sen = tokenize.sent_tokenize(data)"
   ]
  },
  {
   "cell_type": "code",
   "execution_count": 18,
   "metadata": {},
   "outputs": [],
   "source": [
    "target = 'By 2030, reduce at least by half the proportion of men, women and children of all ages living in poverty in all its dimensions according to national definitions'"
   ]
  },
  {
   "cell_type": "code",
   "execution_count": 21,
   "metadata": {},
   "outputs": [],
   "source": [
    "test = 'Expand the social protection system to cover children in all poor households'"
   ]
  },
  {
   "cell_type": "code",
   "execution_count": 22,
   "metadata": {
    "collapsed": true
   },
   "outputs": [
    {
     "name": "stdout",
     "output_type": "stream",
     "text": [
      "['least', 'half', 'proportion', 'men', 'women', 'children', 'ages', 'poverty', 'dimensions', 'national', 'definitions', 'least half', 'half proportion', 'proportion men', 'men women', 'women children', 'children ages', 'ages poverty', 'poverty dimensions', 'dimensions national', 'national definitions'] ['social', 'protection', 'system', 'cover', 'children', 'poor', 'households', 'social protection', 'protection system', 'system cover', 'cover children', 'children poor', 'poor households']\n1 \t\t {'children'} | {'children'}\n1.0950701259887032 \t\t {'children'} | {'cover', 'children'}\n1.066734669871967 \t\t {'children'} | {'poor', 'children'}\n"
     ]
    },
    {
     "name": "stdout",
     "output_type": "stream",
     "text": [
      "1.1212713746416614 \t\t {'women', 'children'} | {'children'}\n1.3179252615015744 \t\t {'women', 'children'} | {'cover', 'children'}\n1.343778961002156 \t\t {'women', 'children'} | {'poor', 'children'}\n1.0728309862672214 \t\t {'ages', 'children'} | {'children'}\n1.2473288368461346 \t\t {'ages', 'children'} | {'cover', 'children'}\n1.2103216199212885 \t\t {'ages', 'children'} | {'poor', 'children'}\n['children', 'women children', 'children ages'] ['children', 'cover children', 'children poor']\n"
     ]
    },
    {
     "data": {
      "text/plain": [
       "1"
      ]
     },
     "execution_count": 22,
     "metadata": {},
     "output_type": "execute_result"
    }
   ],
   "source": [
    "mySim(target, test, sigma=0.6)"
   ]
  },
  {
   "cell_type": "code",
   "execution_count": 33,
   "metadata": {},
   "outputs": [
    {
     "name": "stdout",
     "output_type": "stream",
     "text": [
      "[] []\n"
     ]
    },
    {
     "data": {
      "text/plain": [
       "0.0"
      ]
     },
     "execution_count": 33,
     "metadata": {},
     "output_type": "execute_result"
    }
   ],
   "source": [
    "mySim(target, test)"
   ]
  },
  {
   "cell_type": "code",
   "execution_count": 19,
   "metadata": {},
   "outputs": [],
   "source": [
    "brown_ic = wordnet_ic.ic('ic-brown-resnik.dat')\n",
    "semcor_ic = wordnet_ic.ic('ic-semcor.dat')"
   ]
  },
  {
   "cell_type": "code",
   "execution_count": 13,
   "metadata": {},
   "outputs": [
    {
     "name": "stdout",
     "output_type": "stream",
     "text": [
      "0.18181818181818182 Synset('poverty.n.01') Synset('person.n.01')\n0.14285714285714285 Synset('poverty.n.01') Synset('individual.n.02')\n"
     ]
    }
   ],
   "source": [
    "from nltk.corpus import wordnet as wn\n",
    "from itertools import product\n",
    "\n",
    "synsets_1 = wn.synsets('poverty')\n",
    "synsets_2 = wn.synsets('individuals')\n",
    "if synsets_1 and synsets_2:\n",
    "    for synset_1, synset_2 in product(synsets_1, synsets_2):\n",
    "        try:\n",
    "            sim = wn.wup_similarity(synset_1, synset_2)\n",
    "            print(sim, synset_1, synset_2)\n",
    "        except:\n",
    "            continue"
   ]
  },
  {
   "cell_type": "code",
   "execution_count": 28,
   "metadata": {
    "collapsed": true
   },
   "outputs": [
    {
     "name": "stdout",
     "output_type": "stream",
     "text": [
      "[] []\n"
     ]
    },
    {
     "name": "stdout",
     "output_type": "stream",
     "text": [
      "['poverty', 'dimensions', 'poverty dimensions'] ['dimensions', 'poverty', 'education dimensions', 'dimensions development', 'sustainable poverty', 'poverty alleviation']\nEducation virtually impacts all dimensions of development and is critical for ensuring sustainable poverty alleviation which can only come through the empowerment of our people, particularly the remote and most vulnerable sections of our population.\n"
     ]
    },
    {
     "name": "stdout",
     "output_type": "stream",
     "text": [
      "[] []\n"
     ]
    },
    {
     "name": "stdout",
     "output_type": "stream",
     "text": [
      "[] []\n"
     ]
    },
    {
     "name": "stdout",
     "output_type": "stream",
     "text": [
      "[] []\n"
     ]
    },
    {
     "name": "stdout",
     "output_type": "stream",
     "text": [
      "[] []\n"
     ]
    },
    {
     "name": "stdout",
     "output_type": "stream",
     "text": [
      "[] []\n"
     ]
    },
    {
     "name": "stdout",
     "output_type": "stream",
     "text": [
      "[] []\n"
     ]
    },
    {
     "name": "stdout",
     "output_type": "stream",
     "text": [
      "[] []\n"
     ]
    },
    {
     "name": "stdout",
     "output_type": "stream",
     "text": [
      "[] []\n"
     ]
    },
    {
     "name": "stdout",
     "output_type": "stream",
     "text": [
      "[] []\n"
     ]
    },
    {
     "name": "stdout",
     "output_type": "stream",
     "text": [
      "[] []\n"
     ]
    },
    {
     "name": "stdout",
     "output_type": "stream",
     "text": [
      "[] []\n"
     ]
    },
    {
     "name": "stdout",
     "output_type": "stream",
     "text": [
      "[] []\n"
     ]
    },
    {
     "name": "stdout",
     "output_type": "stream",
     "text": [
      "[] []\n"
     ]
    },
    {
     "name": "stdout",
     "output_type": "stream",
     "text": [
      "[] []\n"
     ]
    },
    {
     "name": "stdout",
     "output_type": "stream",
     "text": [
      "[] []\n"
     ]
    },
    {
     "name": "stdout",
     "output_type": "stream",
     "text": [
      "[] []\n"
     ]
    },
    {
     "name": "stdout",
     "output_type": "stream",
     "text": [
      "[] []\n"
     ]
    },
    {
     "name": "stdout",
     "output_type": "stream",
     "text": [
      "[] []\n"
     ]
    },
    {
     "name": "stdout",
     "output_type": "stream",
     "text": [
      "[] []\n"
     ]
    },
    {
     "name": "stdout",
     "output_type": "stream",
     "text": [
      "[] []\n"
     ]
    },
    {
     "name": "stdout",
     "output_type": "stream",
     "text": [
      "[] []\n"
     ]
    },
    {
     "name": "stdout",
     "output_type": "stream",
     "text": [
      "[] []\n"
     ]
    },
    {
     "name": "stdout",
     "output_type": "stream",
     "text": [
      "[] []\n"
     ]
    },
    {
     "name": "stdout",
     "output_type": "stream",
     "text": [
      "[] []\n"
     ]
    },
    {
     "name": "stdout",
     "output_type": "stream",
     "text": [
      "[] []\n"
     ]
    },
    {
     "name": "stdout",
     "output_type": "stream",
     "text": [
      "['dimensions', 'poverty dimensions'] ['proportion', 'ratios proportion', 'proportion pupils']\nIn terms of the MDGs, the targets for gross primary enrolment ratios, proportion of pupils starting grade 1 who reach grade 5, and the ratio of girls to boys in primary schools and secondary schools have already been achieved while the other targets are well on track to be achieved.\n"
     ]
    },
    {
     "name": "stdout",
     "output_type": "stream",
     "text": [
      "[] []\n"
     ]
    },
    {
     "name": "stdout",
     "output_type": "stream",
     "text": [
      "[] []\n"
     ]
    },
    {
     "name": "stdout",
     "output_type": "stream",
     "text": [
      "[] []\n"
     ]
    },
    {
     "name": "stdout",
     "output_type": "stream",
     "text": [
      "[] []\n"
     ]
    },
    {
     "name": "stdout",
     "output_type": "stream",
     "text": [
      "[] []\n"
     ]
    },
    {
     "name": "stdout",
     "output_type": "stream",
     "text": [
      "[] []\n"
     ]
    },
    {
     "name": "stdout",
     "output_type": "stream",
     "text": [
      "[] []\n"
     ]
    },
    {
     "name": "stdout",
     "output_type": "stream",
     "text": [
      "['poverty', 'poverty dimensions'] ['needs', 'learning needs', 'needs children']\nThis 1.5 percent are assumed to be children in remote and hard to reach areas, children of nomadic communities, children with learning disabilities whose special learning needs are yet to be catered for and children of the urban poor.\n"
     ]
    },
    {
     "name": "stdout",
     "output_type": "stream",
     "text": [
      "[] []\n"
     ]
    },
    {
     "name": "stdout",
     "output_type": "stream",
     "text": [
      "[] []\n"
     ]
    },
    {
     "name": "stdout",
     "output_type": "stream",
     "text": [
      "[] []\n"
     ]
    },
    {
     "name": "stdout",
     "output_type": "stream",
     "text": [
      "[] []\n"
     ]
    },
    {
     "name": "stdout",
     "output_type": "stream",
     "text": [
      "[] []\n"
     ]
    },
    {
     "name": "stdout",
     "output_type": "stream",
     "text": [
      "['poverty', 'poverty dimensions'] ['needs', 'special needs', 'needs children']\nAddressing the last mile challenge of enrollment, including disparities at local levels and catering to the special needs of children with disabilities will require innovative and cost effective strategies in the delivery of education.\n"
     ]
    },
    {
     "name": "stdout",
     "output_type": "stream",
     "text": [
      "[] []\n"
     ]
    },
    {
     "name": "stdout",
     "output_type": "stream",
     "text": [
      "['poverty', 'poverty dimensions'] ['need', 'high need', 'need improvement']\nJudging solely by improvements in efficiency indicators such as drop-out rates, repetition rates, completion rates and survival rates, the quality of education has certainly improved over the years, although some of these rates, such as repetition and dropout rates in class IV and VII, are still undesirably high and need further improvement.\n"
     ]
    },
    {
     "name": "stdout",
     "output_type": "stream",
     "text": [
      "[] []\n"
     ]
    },
    {
     "name": "stdout",
     "output_type": "stream",
     "text": [
      "[] []\n"
     ]
    },
    {
     "name": "stdout",
     "output_type": "stream",
     "text": [
      "['dimensions', 'poverty dimensions'] ['time', 'shortage time']\nThis has resulted in a paradoxical situation of relatively high levels of youth unemployment and a critical skills shortage at the same time.\n"
     ]
    },
    {
     "name": "stdout",
     "output_type": "stream",
     "text": [
      "[] []\n"
     ]
    },
    {
     "name": "stdout",
     "output_type": "stream",
     "text": [
      "[] []\n"
     ]
    },
    {
     "name": "stdout",
     "output_type": "stream",
     "text": [
      "[] []\n"
     ]
    },
    {
     "name": "stdout",
     "output_type": "stream",
     "text": [
      "[] []\n"
     ]
    },
    {
     "name": "stdout",
     "output_type": "stream",
     "text": [
      "[] []\n"
     ]
    },
    {
     "name": "stdout",
     "output_type": "stream",
     "text": [
      "[] []\n"
     ]
    },
    {
     "name": "stdout",
     "output_type": "stream",
     "text": [
      "[] []\n"
     ]
    },
    {
     "name": "stdout",
     "output_type": "stream",
     "text": [
      "[] []\n"
     ]
    },
    {
     "name": "stdout",
     "output_type": "stream",
     "text": [
      "[] []\n"
     ]
    },
    {
     "name": "stdout",
     "output_type": "stream",
     "text": [
      "[] []\n"
     ]
    },
    {
     "name": "stdout",
     "output_type": "stream",
     "text": [
      "[] []\n"
     ]
    },
    {
     "name": "stdout",
     "output_type": "stream",
     "text": [
      "[] []\n"
     ]
    },
    {
     "name": "stdout",
     "output_type": "stream",
     "text": [
      "[] []\n"
     ]
    },
    {
     "name": "stdout",
     "output_type": "stream",
     "text": [
      "[] []\n"
     ]
    },
    {
     "name": "stdout",
     "output_type": "stream",
     "text": [
      "[] []\n"
     ]
    },
    {
     "name": "stdout",
     "output_type": "stream",
     "text": [
      "[] []\n"
     ]
    },
    {
     "name": "stdout",
     "output_type": "stream",
     "text": [
      "[] []\n"
     ]
    },
    {
     "name": "stdout",
     "output_type": "stream",
     "text": [
      "[] []\n"
     ]
    },
    {
     "name": "stdout",
     "output_type": "stream",
     "text": [
      "[] []\n"
     ]
    },
    {
     "name": "stdout",
     "output_type": "stream",
     "text": [
      "[] []\n"
     ]
    },
    {
     "name": "stdout",
     "output_type": "stream",
     "text": [
      "[] []\n"
     ]
    },
    {
     "name": "stdout",
     "output_type": "stream",
     "text": [
      "[] []\n"
     ]
    },
    {
     "name": "stdout",
     "output_type": "stream",
     "text": [
      "[] []\n"
     ]
    },
    {
     "name": "stdout",
     "output_type": "stream",
     "text": [
      "[] []\n"
     ]
    },
    {
     "name": "stdout",
     "output_type": "stream",
     "text": [
      "[] []\n"
     ]
    },
    {
     "name": "stdout",
     "output_type": "stream",
     "text": [
      "[] []\n"
     ]
    },
    {
     "name": "stdout",
     "output_type": "stream",
     "text": [
      "[] []\n"
     ]
    },
    {
     "name": "stdout",
     "output_type": "stream",
     "text": [
      "[] []\n"
     ]
    },
    {
     "name": "stdout",
     "output_type": "stream",
     "text": [
      "[] []\n"
     ]
    },
    {
     "name": "stdout",
     "output_type": "stream",
     "text": [
      "[] []\n"
     ]
    },
    {
     "name": "stdout",
     "output_type": "stream",
     "text": [
      "['poverty', 'poverty dimensions'] ['needs', 'developmental needs', 'needs clear']\n5.1.3  Sector Key Result Areas\n\nThe sector key result areas and key performance indicators for TVET and Education sector are as follows:\n\n5.1.4  Strategies\n\nAny strategy to strengthen our education system and institutions to the level required to bring about the transformation in our socio-economic development process must ensure that we take a comprehensive stock of the state of our entire education system (spanning school, TVET, higher education, and continuing education) as an integrated whole rather than disparate parts (including regular assessment and diagnostics of student performance and identify the root causes of the mismatch between educational outcomes and our developmental needs); establish clear quality criteria in terms of the desired outcomes that are responsive to the changing expectations of students and are regularly benchmarked to global standards (such as student outcomes and employment, instructional methods, and organizational dynamism); understand the capacity gaps in achieving those criteria; provide a collaborative and highly competent institutional support system that focuses on helping students, teachers and school leaders develop research based innovative strategies of implementation to achieve the desired outcomes and; disseminate those evidence-based effective strategies throughout the system.\n"
     ]
    },
    {
     "name": "stdout",
     "output_type": "stream",
     "text": [
      "[] []\n"
     ]
    },
    {
     "name": "stdout",
     "output_type": "stream",
     "text": [
      "[] []\n"
     ]
    },
    {
     "name": "stdout",
     "output_type": "stream",
     "text": [
      "[] []\n"
     ]
    },
    {
     "name": "stdout",
     "output_type": "stream",
     "text": [
      "[] []\n"
     ]
    },
    {
     "name": "stdout",
     "output_type": "stream",
     "text": [
      "[] []\n"
     ]
    },
    {
     "name": "stdout",
     "output_type": "stream",
     "text": [
      "[] []\n"
     ]
    },
    {
     "name": "stdout",
     "output_type": "stream",
     "text": [
      "[] []\n"
     ]
    },
    {
     "name": "stdout",
     "output_type": "stream",
     "text": [
      "[] []\n"
     ]
    },
    {
     "name": "stdout",
     "output_type": "stream",
     "text": [
      "[] []\n"
     ]
    },
    {
     "name": "stdout",
     "output_type": "stream",
     "text": [
      "[] []\n"
     ]
    },
    {
     "name": "stdout",
     "output_type": "stream",
     "text": [
      "[] []\n"
     ]
    },
    {
     "name": "stdout",
     "output_type": "stream",
     "text": [
      "[] []\n"
     ]
    },
    {
     "name": "stdout",
     "output_type": "stream",
     "text": [
      "[] []\n"
     ]
    },
    {
     "name": "stdout",
     "output_type": "stream",
     "text": [
      "[] []\n"
     ]
    },
    {
     "name": "stdout",
     "output_type": "stream",
     "text": [
      "[] []\n"
     ]
    },
    {
     "name": "stdout",
     "output_type": "stream",
     "text": [
      "[] []\n"
     ]
    },
    {
     "name": "stdout",
     "output_type": "stream",
     "text": [
      "[] []\n"
     ]
    },
    {
     "name": "stdout",
     "output_type": "stream",
     "text": [
      "[] []\n"
     ]
    },
    {
     "name": "stdout",
     "output_type": "stream",
     "text": [
      "[] []\n"
     ]
    },
    {
     "name": "stdout",
     "output_type": "stream",
     "text": [
      "[] []\n"
     ]
    },
    {
     "name": "stdout",
     "output_type": "stream",
     "text": [
      "[] []\n"
     ]
    },
    {
     "name": "stdout",
     "output_type": "stream",
     "text": [
      "[] []\n"
     ]
    },
    {
     "name": "stdout",
     "output_type": "stream",
     "text": [
      "[] []\n"
     ]
    },
    {
     "name": "stdout",
     "output_type": "stream",
     "text": [
      "['poverty', 'poverty dimensions'] ['need', 'schools need', 'need increase']\n5.1.5  Key Programmes\n\nSome of the key programmes for the Eleventh Plan:\n\nEducation\n\ni)\tConstruction of new schools based on need to increase space especially at the secondary levels;\n\nii)\tProvision of minimum standard facilities, wherever required, to ensure a positive environment for teaching-learning process.\n"
     ]
    },
    {
     "name": "stdout",
     "output_type": "stream",
     "text": [
      "[] []\n"
     ]
    },
    {
     "name": "stdout",
     "output_type": "stream",
     "text": [
      "['poverty', 'poverty dimensions'] ['needs', 'programmes needs', 'needs individuals']\nin nearby schools and rationalizing smaller schools;\n\niv)\tProvision of staff quarters/allowances especially in remote and rural areas to make rural posting attractive and improve quality of education in the remote locations;\n\nv)\tAddressing gender gaps at higher secondary level through provision of gender responsive facilities such as hostels and hostel toilets for girls' toilets and housing for female teachers;\n\nvi)\tStrengthening curriculum research and development and finding mechanisms to enhance efficiency, accountability and retain specialized skills;\n\nvii)\tEnhance capacity of tertiary education to achieve GER at tertiary education of 35 percent by 2017-18;\n\nviii)\tEnhance quality and relevance of tertiary education programmes to meet the needs of individuals as well as the industry and society at large.\n"
     ]
    },
    {
     "name": "stdout",
     "output_type": "stream",
     "text": [
      "[] []\n"
     ]
    },
    {
     "name": "stdout",
     "output_type": "stream",
     "text": [
      "[] []\n"
     ]
    },
    {
     "name": "stdout",
     "output_type": "stream",
     "text": [
      "[] []\n"
     ]
    },
    {
     "name": "stdout",
     "output_type": "stream",
     "text": [
      "[] []\n"
     ]
    },
    {
     "name": "stdout",
     "output_type": "stream",
     "text": [
      "[] []\n"
     ]
    },
    {
     "ename": "KeyboardInterrupt",
     "evalue": "",
     "traceback": [
      "\u001b[0;31m\u001b[0m",
      "\u001b[0;31mKeyboardInterrupt\u001b[0mTraceback (most recent call last)",
      "\u001b[0;32m<ipython-input-28-21fbb48d81e2>\u001b[0m in \u001b[0;36m<module>\u001b[0;34m()\u001b[0m\n\u001b[1;32m      1\u001b[0m \u001b[0;32mfor\u001b[0m \u001b[0ms\u001b[0m \u001b[0;32min\u001b[0m \u001b[0msen\u001b[0m\u001b[0;34m:\u001b[0m\u001b[0;34m\u001b[0m\u001b[0m\n\u001b[0;32m----> 2\u001b[0;31m     \u001b[0;32mif\u001b[0m \u001b[0mmySim\u001b[0m\u001b[0;34m(\u001b[0m\u001b[0;34m'poverty, dimensions'\u001b[0m\u001b[0;34m,\u001b[0m \u001b[0ms\u001b[0m\u001b[0;34m,\u001b[0m \u001b[0msigma\u001b[0m\u001b[0;34m=\u001b[0m\u001b[0;36m1\u001b[0m\u001b[0;34m)\u001b[0m\u001b[0;34m:\u001b[0m\u001b[0;34m\u001b[0m\u001b[0m\n\u001b[0m\u001b[1;32m      3\u001b[0m         \u001b[0mprint\u001b[0m\u001b[0;34m(\u001b[0m\u001b[0ms\u001b[0m\u001b[0;34m)\u001b[0m\u001b[0;34m\u001b[0m\u001b[0m\n",
      "\u001b[0;32m<ipython-input-26-e7735613e655>\u001b[0m in \u001b[0;36mmySim\u001b[0;34m(text1, text2, sigma, w, corpus)\u001b[0m\n\u001b[1;32m     73\u001b[0m         \u001b[0mw2_set\u001b[0m \u001b[0;34m=\u001b[0m \u001b[0mset\u001b[0m\u001b[0;34m(\u001b[0m\u001b[0mw2\u001b[0m\u001b[0;34m.\u001b[0m\u001b[0msplit\u001b[0m\u001b[0;34m(\u001b[0m\u001b[0;34m)\u001b[0m\u001b[0;34m)\u001b[0m\u001b[0;34m\u001b[0m\u001b[0m\n\u001b[1;32m     74\u001b[0m         \u001b[0;32mfor\u001b[0m \u001b[0mt1\u001b[0m\u001b[0;34m,\u001b[0m \u001b[0mt2\u001b[0m \u001b[0;32min\u001b[0m \u001b[0mproduct\u001b[0m\u001b[0;34m(\u001b[0m\u001b[0mw1_set\u001b[0m\u001b[0;34m,\u001b[0m \u001b[0mw2_set\u001b[0m\u001b[0;34m)\u001b[0m\u001b[0;34m:\u001b[0m\u001b[0;34m\u001b[0m\u001b[0m\n\u001b[0;32m---> 75\u001b[0;31m             \u001b[0msim\u001b[0m \u001b[0;34m+=\u001b[0m \u001b[0mget_sim_score\u001b[0m\u001b[0;34m(\u001b[0m\u001b[0mt1\u001b[0m\u001b[0;34m,\u001b[0m \u001b[0mt2\u001b[0m\u001b[0;34m,\u001b[0m \u001b[0minfo_content\u001b[0m\u001b[0;34m)\u001b[0m\u001b[0;34m\u001b[0m\u001b[0m\n\u001b[0m\u001b[1;32m     76\u001b[0m \u001b[0;34m\u001b[0m\u001b[0m\n\u001b[1;32m     77\u001b[0m \u001b[0;34m\u001b[0m\u001b[0m\n",
      "\u001b[0;32m<ipython-input-26-e7735613e655>\u001b[0m in \u001b[0;36mget_sim_score\u001b[0;34m(word_1, word_2, info_content)\u001b[0m\n\u001b[1;32m     15\u001b[0m     \u001b[0;32melse\u001b[0m\u001b[0;34m:\u001b[0m\u001b[0;34m\u001b[0m\u001b[0m\n\u001b[1;32m     16\u001b[0m         \u001b[0mmax_sim\u001b[0m \u001b[0;34m=\u001b[0m \u001b[0;36m0.0\u001b[0m\u001b[0;34m\u001b[0m\u001b[0m\n\u001b[0;32m---> 17\u001b[0;31m         \u001b[0msynsets_1\u001b[0m \u001b[0;34m=\u001b[0m \u001b[0mwn\u001b[0m\u001b[0;34m.\u001b[0m\u001b[0msynsets\u001b[0m\u001b[0;34m(\u001b[0m\u001b[0mword_1\u001b[0m\u001b[0;34m)\u001b[0m\u001b[0;34m\u001b[0m\u001b[0m\n\u001b[0m\u001b[1;32m     18\u001b[0m         \u001b[0msynsets_2\u001b[0m \u001b[0;34m=\u001b[0m \u001b[0mwn\u001b[0m\u001b[0;34m.\u001b[0m\u001b[0msynsets\u001b[0m\u001b[0;34m(\u001b[0m\u001b[0mword_2\u001b[0m\u001b[0;34m)\u001b[0m\u001b[0;34m\u001b[0m\u001b[0m\n\u001b[1;32m     19\u001b[0m         \u001b[0;32mif\u001b[0m \u001b[0msynsets_1\u001b[0m \u001b[0;32mand\u001b[0m \u001b[0msynsets_2\u001b[0m\u001b[0;34m:\u001b[0m\u001b[0;34m\u001b[0m\u001b[0m\n",
      "\u001b[0;32m/Users/maxwelllee54/anaconda/lib/python3.5/site-packages/nltk/corpus/reader/wordnet.py\u001b[0m in \u001b[0;36msynsets\u001b[0;34m(self, lemma, pos, lang)\u001b[0m\n\u001b[1;32m   1422\u001b[0m                 \u001b[0mpos\u001b[0m \u001b[0;34m=\u001b[0m \u001b[0mPOS_LIST\u001b[0m\u001b[0;34m\u001b[0m\u001b[0m\n\u001b[1;32m   1423\u001b[0m             return [get_synset(p, offset)\n\u001b[0;32m-> 1424\u001b[0;31m                     \u001b[0;32mfor\u001b[0m \u001b[0mp\u001b[0m \u001b[0;32min\u001b[0m \u001b[0mpos\u001b[0m\u001b[0;34m\u001b[0m\u001b[0m\n\u001b[0m\u001b[1;32m   1425\u001b[0m                     \u001b[0;32mfor\u001b[0m \u001b[0mform\u001b[0m \u001b[0;32min\u001b[0m \u001b[0mself\u001b[0m\u001b[0;34m.\u001b[0m\u001b[0m_morphy\u001b[0m\u001b[0;34m(\u001b[0m\u001b[0mlemma\u001b[0m\u001b[0;34m,\u001b[0m \u001b[0mp\u001b[0m\u001b[0;34m)\u001b[0m\u001b[0;34m\u001b[0m\u001b[0m\n\u001b[1;32m   1426\u001b[0m                     for offset in index[form].get(p, [])]\n",
      "\u001b[0;32m/Users/maxwelllee54/anaconda/lib/python3.5/site-packages/nltk/corpus/reader/wordnet.py\u001b[0m in \u001b[0;36m<listcomp>\u001b[0;34m(.0)\u001b[0m\n\u001b[1;32m   1424\u001b[0m                     \u001b[0;32mfor\u001b[0m \u001b[0mp\u001b[0m \u001b[0;32min\u001b[0m \u001b[0mpos\u001b[0m\u001b[0;34m\u001b[0m\u001b[0m\n\u001b[1;32m   1425\u001b[0m                     \u001b[0;32mfor\u001b[0m \u001b[0mform\u001b[0m \u001b[0;32min\u001b[0m \u001b[0mself\u001b[0m\u001b[0;34m.\u001b[0m\u001b[0m_morphy\u001b[0m\u001b[0;34m(\u001b[0m\u001b[0mlemma\u001b[0m\u001b[0;34m,\u001b[0m \u001b[0mp\u001b[0m\u001b[0;34m)\u001b[0m\u001b[0;34m\u001b[0m\u001b[0m\n\u001b[0;32m-> 1426\u001b[0;31m                     for offset in index[form].get(p, [])]\n\u001b[0m\u001b[1;32m   1427\u001b[0m \u001b[0;34m\u001b[0m\u001b[0m\n\u001b[1;32m   1428\u001b[0m         \u001b[0;32melse\u001b[0m\u001b[0;34m:\u001b[0m\u001b[0;34m\u001b[0m\u001b[0m\n",
      "\u001b[0;32m/Users/maxwelllee54/anaconda/lib/python3.5/site-packages/nltk/corpus/reader/wordnet.py\u001b[0m in \u001b[0;36m_synset_from_pos_and_offset\u001b[0;34m(self, pos, offset)\u001b[0m\n\u001b[1;32m   1272\u001b[0m     \u001b[0;32mdef\u001b[0m \u001b[0m_synset_from_pos_and_offset\u001b[0m\u001b[0;34m(\u001b[0m\u001b[0mself\u001b[0m\u001b[0;34m,\u001b[0m \u001b[0mpos\u001b[0m\u001b[0;34m,\u001b[0m \u001b[0moffset\u001b[0m\u001b[0;34m)\u001b[0m\u001b[0;34m:\u001b[0m\u001b[0;34m\u001b[0m\u001b[0m\n\u001b[1;32m   1273\u001b[0m         \u001b[0;31m# Check to see if the synset is in the cache\u001b[0m\u001b[0;34m\u001b[0m\u001b[0;34m\u001b[0m\u001b[0m\n\u001b[0;32m-> 1274\u001b[0;31m         \u001b[0;32mif\u001b[0m \u001b[0moffset\u001b[0m \u001b[0;32min\u001b[0m \u001b[0mself\u001b[0m\u001b[0;34m.\u001b[0m\u001b[0m_synset_offset_cache\u001b[0m\u001b[0;34m[\u001b[0m\u001b[0mpos\u001b[0m\u001b[0;34m]\u001b[0m\u001b[0;34m:\u001b[0m\u001b[0;34m\u001b[0m\u001b[0m\n\u001b[0m\u001b[1;32m   1275\u001b[0m             \u001b[0;32mreturn\u001b[0m \u001b[0mself\u001b[0m\u001b[0;34m.\u001b[0m\u001b[0m_synset_offset_cache\u001b[0m\u001b[0;34m[\u001b[0m\u001b[0mpos\u001b[0m\u001b[0;34m]\u001b[0m\u001b[0;34m[\u001b[0m\u001b[0moffset\u001b[0m\u001b[0;34m]\u001b[0m\u001b[0;34m\u001b[0m\u001b[0m\n\u001b[1;32m   1276\u001b[0m \u001b[0;34m\u001b[0m\u001b[0m\n",
      "\u001b[0;31mKeyboardInterrupt\u001b[0m: "
     ],
     "output_type": "error"
    }
   ],
   "source": [
    "for s in sen: \n",
    "    if mySim('poverty, dimensions', s, sigma=1):\n",
    "        print(s)"
   ]
  },
  {
   "cell_type": "code",
   "execution_count": null,
   "metadata": {},
   "outputs": [],
   "source": [
    ""
   ]
  }
 ],
 "metadata": {
  "kernelspec": {
   "display_name": "Python 2",
   "language": "python",
   "name": "python2"
  },
  "language_info": {
   "codemirror_mode": {
    "name": "ipython",
    "version": 2.0
   },
   "file_extension": ".py",
   "mimetype": "text/x-python",
   "name": "python",
   "nbconvert_exporter": "python",
   "pygments_lexer": "ipython2",
   "version": "2.7.6"
  }
 },
 "nbformat": 4,
 "nbformat_minor": 0
}