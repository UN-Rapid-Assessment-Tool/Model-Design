{
 "cells": [
  {
   "cell_type": "code",
   "execution_count": 29,
   "metadata": {
    "collapsed": true
   },
   "outputs": [],
   "source": [
    "import nltk\n",
    "import re\n",
    "from nltk.corpus import wordnet as wn\n",
    "from itertools import product\n",
    "from nltk.corpus import wordnet_ic\n",
    "\n",
    "\n",
    "def get_sim_score(word_1, word_2, info_content):\n",
    "    \"\"\" \n",
    "    Calculate the highest path similarity among all pairs. \n",
    "    \"\"\"\n",
    "\n",
    "    if word_1 == word_2:\n",
    "        return 1\n",
    "    else:\n",
    "        max_sim = -1.0\n",
    "        synsets_1 = wn.synsets(word_1)\n",
    "        synsets_2 = wn.synsets(word_2)\n",
    "        if synsets_1 and synsets_2:\n",
    "            for synset_1, synset_2 in product(synsets_1, synsets_2):\n",
    "                try:\n",
    "                    sim = wn.lin_similarity(synset_1, synset_2, info_content)\n",
    "                    #sim = wn.wup_similarity(synset_1, synset_2)\n",
    "                    if sim > max_sim:\n",
    "                        max_sim = sim\n",
    "                except:\n",
    "                    continue\n",
    "\n",
    "            return max_sim\n",
    "        return max_sim\n",
    "\n",
    "\n",
    "def mySim(text1, text2, sigma=0.85, w=0.3, corpus='ic-brown-resnik.dat'):\n",
    "    # set stop words\n",
    "    stopwords = nltk.corpus.stopwords.words('english')\n",
    "    # set variables\n",
    "    x = []\n",
    "    y = []\n",
    "    dic = {}\n",
    "    info_content = wordnet_ic.ic(corpus)\n",
    "\n",
    "    # clean raw text\n",
    "    text1 = re.sub('[^a-zA-Z]', ' ', text1).lower()\n",
    "    text2 = re.sub('[^a-zA-Z]', ' ', text2).lower()\n",
    "\n",
    "    # tokenize inputs into vectors\n",
    "    token_p = nltk.word_tokenize(text1, language='english')\n",
    "    token_r = nltk.word_tokenize(text2, language='english')\n",
    "\n",
    "    concept_p = [words for words in token_p if words not in stopwords]\n",
    "    concept_r = [words for words in token_r if words not in stopwords]\n",
    "\n",
    "    m = len(concept_p)\n",
    "    n = len(concept_r)\n",
    "\n",
    "\n",
    "    for w1, w2 in product(concept_p, concept_r):\n",
    "        sim = get_sim_score(w1, w2, info_content)\n",
    "        if sim >= sigma:\n",
    "            x.append(w1)\n",
    "            y.append(w2)\n",
    "            dic[w1] = w2\n",
    "\n",
    "    concept_x = [words for words in token_p if words in x]\n",
    "    concept_y = [words for words in token_r if words in y]\n",
    "\n",
    "    print(concept_x, concept_y)\n",
    "    count = len(concept_x)\n",
    "    total = 0\n",
    "\n",
    "    if count == 0:\n",
    "        sim_score_0 = 0\n",
    "\n",
    "    elif count % 2 == 0 or count == 1:\n",
    "        for position, word in enumerate(concept_x):\n",
    "            total += abs(position - concept_y.index(dic[word]))\n",
    "\n",
    "        sim_score_0 = 1 - 2 * total / count ** 2\n",
    "\n",
    "    else:\n",
    "        for position, word in enumerate(concept_x):\n",
    "            total += abs(position - concept_y.index(dic[word]))\n",
    "\n",
    "        sim_score_0 = 1 - 2 * total / (count ** 2 - 1)\n",
    "\n",
    "    S = ((m + n) / (2 * m * n)) * (count * (1 - w * (1 - sim_score_0)))\n",
    "\n",
    "    return S"
   ]
  },
  {
   "cell_type": "code",
   "execution_count": 30,
   "metadata": {},
   "outputs": [
    {
     "name": "stdout",
     "output_type": "stream",
     "text": [
      "['malin', 'best', 'player', 'pingpong'] ['malin', 'best', 'pingpong', 'players']\n"
     ]
    },
    {
     "data": {
      "text/plain": [
       "0.6342857142857143"
      ]
     },
     "execution_count": 30,
     "metadata": {},
     "output_type": "execute_result"
    }
   ],
   "source": [
    "mySim('Many consider Malin as the best player in PingPong history', 'Malin is one of the best PingPong players')"
   ]
  },
  {
   "cell_type": "code",
   "execution_count": 16,
   "metadata": {
    "collapsed": false
   },
   "outputs": [],
   "source": [
    "from nltk import tokenize\n",
    "with open('/Users/Maxwell/PycharmProjects/Github/Rapid_Assessment_Tools/Bhutan_Input.txt') as f:\n",
    "    data = f.read()\n",
    "    sen = tokenize.sent_tokenize(data)"
   ]
  },
  {
   "cell_type": "code",
   "execution_count": 31,
   "metadata": {},
   "outputs": [],
   "source": [
    "target = 'By 2030, eradicate extreme poverty for all people everywhere, currently measured as people living on less than $1.25 a day'"
   ]
  },
  {
   "cell_type": "code",
   "execution_count": 32,
   "metadata": {},
   "outputs": [],
   "source": [
    "test = 'By 2017, the proportion of severely poor individuals has dropped from 15.8% in 2009/10 to below 10%.'"
   ]
  },
  {
   "cell_type": "code",
   "execution_count": 33,
   "metadata": {},
   "outputs": [
    {
     "name": "stdout",
     "output_type": "stream",
     "text": [
      "[] []\n"
     ]
    },
    {
     "data": {
      "text/plain": [
       "0.0"
      ]
     },
     "execution_count": 33,
     "metadata": {},
     "output_type": "execute_result"
    }
   ],
   "source": [
    "mySim(target, test)"
   ]
  },
  {
   "cell_type": "code",
   "execution_count": 19,
   "metadata": {},
   "outputs": [],
   "source": [
    "brown_ic = wordnet_ic.ic('ic-brown-resnik.dat')\n",
    "semcor_ic = wordnet_ic.ic('ic-semcor.dat')"
   ]
  },
  {
   "cell_type": "code",
   "execution_count": 10,
   "metadata": {},
   "outputs": [
    {
     "name": "stdout",
     "output_type": "stream",
     "text": [
      "0.06838066838413086 Synset('poverty.n.01') Synset('poor_people.n.01')\n"
     ]
    }
   ],
   "source": [
    "from nltk.corpus import wordnet as wn\n",
    "from itertools import product\n",
    "\n",
    "synsets_1 = wn.synsets('poverty')\n",
    "synsets_2 = wn.synsets('poor')\n",
    "if synsets_1 and synsets_2:\n",
    "    for synset_1, synset_2 in product(synsets_1, synsets_2):\n",
    "        try:\n",
    "            sim = wn.jcn_similarity(synset_1, synset_2, brown_ic)\n",
    "            print(sim, synset_1, synset_2)\n",
    "        except:\n",
    "            continue"
   ]
  },
  {
   "cell_type": "code",
   "execution_count": 28,
   "metadata": {
    "collapsed": true
   },
   "outputs": [
    {
     "name": "stdout",
     "output_type": "stream",
     "text": [
      "['extreme', 'people', 'people', 'living'] ['goals', 'people']\n"
     ]
    },
    {
     "name": "stdout",
     "output_type": "stream",
     "text": [
      "['poverty', 'people', 'people', 'living'] ['poverty', 'come', 'people', 'population']\n"
     ]
    },
    {
     "name": "stdout",
     "output_type": "stream",
     "text": [
      "['people', 'people', 'living'] ['citizenry', 'rights']\n"
     ]
    },
    {
     "name": "stdout",
     "output_type": "stream",
     "text": [
      "['people', 'people', 'living', 'day'] ['realization', 'society']\n"
     ]
    },
    {
     "name": "stdout",
     "output_type": "stream",
     "text": [
      "[] []\n"
     ]
    },
    {
     "name": "stdout",
     "output_type": "stream",
     "text": [
      "['day'] ['tertiary']\n"
     ]
    },
    {
     "name": "stdout",
     "output_type": "stream",
     "text": [
      "['people', 'people', 'living'] ['labour', 'resources']\n"
     ]
    },
    {
     "name": "stdout",
     "output_type": "stream",
     "text": [
      "['living'] ['provision']\n"
     ]
    },
    {
     "name": "stdout",
     "output_type": "stream",
     "text": [
      "[] []\n"
     ]
    },
    {
     "name": "stdout",
     "output_type": "stream",
     "text": [
      "['people', 'people', 'living', 'day'] ['free', 'classes', 'age']\n"
     ]
    },
    {
     "name": "stdout",
     "output_type": "stream",
     "text": [
      "['eradicate', 'extreme', 'people', 'people', 'living'] ['end', 'class', 'board']\n"
     ]
    },
    {
     "name": "stdout",
     "output_type": "stream",
     "text": [
      "['people', 'people', 'living'] ['class']\n"
     ]
    },
    {
     "name": "stdout",
     "output_type": "stream",
     "text": [
      "['people', 'people', 'living'] ['classes']\n"
     ]
    },
    {
     "name": "stdout",
     "output_type": "stream",
     "text": [
      "['people', 'measured', 'people', 'living'] ['classes', 'marking']\n"
     ]
    },
    {
     "name": "stdout",
     "output_type": "stream",
     "text": [
      "['people', 'people', 'living'] ['country']\n"
     ]
    },
    {
     "name": "stdout",
     "output_type": "stream",
     "text": [
      "['eradicate', 'extreme', 'day'] ['months', 'level']\n"
     ]
    },
    {
     "name": "stdout",
     "output_type": "stream",
     "text": [
      "['people', 'people', 'living'] ['crafts']\n"
     ]
    },
    {
     "name": "stdout",
     "output_type": "stream",
     "text": [
      "['people', 'people', 'living'] ['class', 'labour', 'market']\n"
     ]
    },
    {
     "name": "stdout",
     "output_type": "stream",
     "text": [
      "['extreme', 'people', 'people', 'living', 'day'] ['tertiary', 'parts', 'country']\n"
     ]
    },
    {
     "name": "stdout",
     "output_type": "stream",
     "text": [
      "[] []\n"
     ]
    },
    {
     "name": "stdout",
     "output_type": "stream",
     "text": [
      "['extreme', 'people', 'people', 'living'] ['degree', 'resources', 'business']\n"
     ]
    },
    {
     "name": "stdout",
     "output_type": "stream",
     "text": [
      "['people', 'people', 'living', 'day'] ['post', 'business']\n"
     ]
    },
    {
     "name": "stdout",
     "output_type": "stream",
     "text": [
      "['extreme', 'people', 'people', 'living', 'day'] ['post', 'degree', 'public']\n"
     ]
    },
    {
     "name": "stdout",
     "output_type": "stream",
     "text": [
      "[] []\n"
     ]
    },
    {
     "name": "stdout",
     "output_type": "stream",
     "text": [
      "[] []\n"
     ]
    },
    {
     "name": "stdout",
     "output_type": "stream",
     "text": [
      "['living'] ['net', 'net']\n"
     ]
    },
    {
     "name": "stdout",
     "output_type": "stream",
     "text": [
      "['extreme'] ['high']\n"
     ]
    },
    {
     "name": "stdout",
     "output_type": "stream",
     "text": [
      "['extreme', 'measured', 'living'] ['gross', 'grade', 'reach', 'grade']\n"
     ]
    },
    {
     "name": "stdout",
     "output_type": "stream",
     "text": [
      "['measured'] ['rate']\n"
     ]
    },
    {
     "name": "stdout",
     "output_type": "stream",
     "text": [
      "[] []\n"
     ]
    },
    {
     "name": "stdout",
     "output_type": "stream",
     "text": [
      "[] []\n"
     ]
    },
    {
     "name": "stdout",
     "output_type": "stream",
     "text": [
      "['less'] ['parity']\n"
     ]
    },
    {
     "name": "stdout",
     "output_type": "stream",
     "text": [
      "['extreme', 'living', 'day'] ['opportunities', 'quality']\n"
     ]
    },
    {
     "name": "stdout",
     "output_type": "stream",
     "text": [
      "['eradicate', 'extreme', 'measured', 'living', 'day'] ['key', 'last', 'levels', 'net']\n"
     ]
    },
    {
     "name": "stdout",
     "output_type": "stream",
     "text": [
      "['living', 'day'] ['going', 'age']\n"
     ]
    },
    {
     "name": "stdout",
     "output_type": "stream",
     "text": [
      "['extreme', 'poverty', 'people', 'people', 'living', 'less'] ['reach', 'disabilities', 'needs', 'poor']\n"
     ]
    },
    {
     "name": "stdout",
     "output_type": "stream",
     "text": [
      "['measured', 'living'] ['rates', 'exist']\n"
     ]
    },
    {
     "name": "stdout",
     "output_type": "stream",
     "text": [
      "['living'] ['net']\n"
     ]
    },
    {
     "name": "stdout",
     "output_type": "stream",
     "text": [
      "['measured', 'living', 'less'] ['parity', 'scores', 'exists']\n"
     ]
    },
    {
     "name": "stdout",
     "output_type": "stream",
     "text": [
      "['eradicate', 'extreme'] ['level']\n"
     ]
    },
    {
     "name": "stdout",
     "output_type": "stream",
     "text": [
      "['eradicate', 'people', 'measured', 'people', 'living'] ['move', 'classes', 'drop', 'rates']\n"
     ]
    },
    {
     "name": "stdout",
     "output_type": "stream",
     "text": [
      "['eradicate', 'extreme', 'poverty', 'measured', 'living', 'less'] ['last', 'levels', 'needs', 'disabilities']\n"
     ]
    },
    {
     "name": "stdout",
     "output_type": "stream",
     "text": [
      "['extreme', 'living'] ['quality', 'quality', 'issue']\n"
     ]
    },
    {
     "name": "stdout",
     "output_type": "stream",
     "text": [
      "['eradicate', 'extreme', 'poverty', 'people', 'measured', 'people', 'living', 'day'] ['drop', 'rates', 'rates', 'rates', 'survival', 'rates', 'quality', 'rates', 'rates', 'class', 'high', 'need']\n"
     ]
    },
    {
     "name": "stdout",
     "output_type": "stream",
     "text": [
      "['day'] ['tertiary']\n"
     ]
    },
    {
     "name": "stdout",
     "output_type": "stream",
     "text": [
      "['extreme'] ['hand', 'face']\n"
     ]
    },
    {
     "name": "stdout",
     "output_type": "stream",
     "text": [
      "['eradicate', 'extreme', 'people', 'measured', 'people', 'living', 'day'] ['high', 'levels', 'youth', 'time']\n"
     ]
    },
    {
     "name": "stdout",
     "output_type": "stream",
     "text": [
      "['measured', 'living'] ['scale', 'met']\n"
     ]
    },
    {
     "name": "stdout",
     "output_type": "stream",
     "text": [
      "['extreme', 'people', 'people', 'living', 'day'] ['fact', 'meet', 'top', 'tertiary', 'poor', 'youth', 'today']\n"
     ]
    },
    {
     "name": "stdout",
     "output_type": "stream",
     "text": [
      "['extreme', 'people', 'people', 'living', 'day'] ['free', 'quality', 'people', 'potential']\n"
     ]
    },
    {
     "name": "stdout",
     "output_type": "stream",
     "text": [
      "['extreme', 'people', 'people', 'living', 'day'] ['today', 'population', 'youth', 'opportunity', 'quality']\n"
     ]
    },
    {
     "name": "stdout",
     "output_type": "stream",
     "text": [
      "[] []\n"
     ]
    },
    {
     "name": "stdout",
     "output_type": "stream",
     "text": [
      "['eradicate', 'extreme', 'people', 'people', 'living'] ['countries', 'high', 'level']\n"
     ]
    },
    {
     "name": "stdout",
     "output_type": "stream",
     "text": [
      "['eradicate', 'extreme', 'people', 'people', 'living', 'day'] ['even', 'english', 'levels']\n"
     ]
    },
    {
     "name": "stdout",
     "output_type": "stream",
     "text": [
      "['extreme'] ['quality', 'quality']\n"
     ]
    },
    {
     "name": "stdout",
     "output_type": "stream",
     "text": [
      "['eradicate', 'extreme', 'poverty', 'people', 'measured', 'people', 'living', 'day'] ['key', 'quality', 'level', 'grades', 'level', 'way', 'low', 'quality', 'resources', 'initiate', 'infrastructure', 'support', 'goals', 'goals', 'need', 'degree', 'resources', 'quality']\n"
     ]
    },
    {
     "name": "stdout",
     "output_type": "stream",
     "text": [
      "['people', 'people', 'living', 'day'] ['resources', 'poor', 'service']\n"
     ]
    },
    {
     "name": "stdout",
     "output_type": "stream",
     "text": [
      "['extreme', 'measured'] ['recommended', 'high']\n"
     ]
    },
    {
     "name": "stdout",
     "output_type": "stream",
     "text": [
      "['extreme', 'living'] ['infrastructure', 'quality']\n"
     ]
    },
    {
     "name": "stdout",
     "output_type": "stream",
     "text": [
      "[] []\n"
     ]
    },
    {
     "name": "stdout",
     "output_type": "stream",
     "text": [
      "['extreme', 'day'] ['today', 'high']\n"
     ]
    },
    {
     "name": "stdout",
     "output_type": "stream",
     "text": [
      "['people', 'people', 'living'] ['poor']\n"
     ]
    },
    {
     "name": "stdout",
     "output_type": "stream",
     "text": [
      "['living'] ['resource']\n"
     ]
    },
    {
     "name": "stdout",
     "output_type": "stream",
     "text": [
      "['living'] ['resource']\n"
     ]
    },
    {
     "name": "stdout",
     "output_type": "stream",
     "text": [
      "['extreme', 'living', 'day'] ['tertiary', 'issue', 'quality']\n"
     ]
    },
    {
     "name": "stdout",
     "output_type": "stream",
     "text": [
      "['people', 'people', 'living'] ['completing', 'classes', 'labour', 'market']\n"
     ]
    },
    {
     "name": "stdout",
     "output_type": "stream",
     "text": [
      "['extreme', 'day'] ['tertiary', 'quality', 'post']\n"
     ]
    },
    {
     "name": "stdout",
     "output_type": "stream",
     "text": [
      "['people', 'people', 'living'] ['trade']\n"
     ]
    },
    {
     "name": "stdout",
     "output_type": "stream",
     "text": [
      "['extreme', 'poverty', 'day'] ['view', 'need', 'quality', 'tertiary']\n"
     ]
    },
    {
     "name": "stdout",
     "output_type": "stream",
     "text": [
      "['measured', 'living'] ['share', 'last', 'allocation']\n"
     ]
    },
    {
     "name": "stdout",
     "output_type": "stream",
     "text": [
      "[] []\n"
     ]
    },
    {
     "name": "stdout",
     "output_type": "stream",
     "text": [
      "['day'] ['th']\n"
     ]
    },
    {
     "name": "stdout",
     "output_type": "stream",
     "text": [
      "[] []\n"
     ]
    },
    {
     "name": "stdout",
     "output_type": "stream",
     "text": [
      "['extreme', 'living'] ['capital']\n"
     ]
    },
    {
     "name": "stdout",
     "output_type": "stream",
     "text": [
      "['eradicate', 'extreme', 'living', 'day'] ['coming', 'maintenance', 'past', 'infrastructure', 'investments', 'capital', 'investments', 'levels']\n"
     ]
    },
    {
     "name": "stdout",
     "output_type": "stream",
     "text": [
      "['poverty', 'living'] ['need', 'take']\n"
     ]
    },
    {
     "name": "stdout",
     "output_type": "stream",
     "text": [
      "['measured'] ['rates']\n"
     ]
    },
    {
     "name": "stdout",
     "output_type": "stream",
     "text": [
      "['eradicate', 'extreme', 'poverty', 'people', 'people', 'living', 'day'] ['key', 'key', 'key', 'level', 'take', 'stock', 'parts', 'needs', 'quality', 'support']\n"
     ]
    },
    {
     "name": "stdout",
     "output_type": "stream",
     "text": [
      "[] []\n"
     ]
    },
    {
     "name": "stdout",
     "output_type": "stream",
     "text": [
      "[] []\n"
     ]
    },
    {
     "name": "stdout",
     "output_type": "stream",
     "text": [
      "['extreme', 'living', 'less', 'day'] ['experience', 'top', 'gestation']\n"
     ]
    },
    {
     "name": "stdout",
     "output_type": "stream",
     "text": [
      "['living'] ['resources', 'support']\n"
     ]
    },
    {
     "name": "stdout",
     "output_type": "stream",
     "text": [
      "['eradicate', 'extreme', 'measured', 'living', 'day'] ['tertiary', 'goals', 'goals', 'goals', 'quality', 'goals', 'principals', 'quality', 'resources', 'principals', 'support', 'promote', 'quality', 'infrastructure', 'support', 'execute', 'life', 'life', 'meeting', 'tertiary']\n"
     ]
    },
    {
     "name": "stdout",
     "output_type": "stream",
     "text": [
      "[] []\n"
     ]
    },
    {
     "name": "stdout",
     "output_type": "stream",
     "text": [
      "['extreme'] ['reach']\n"
     ]
    },
    {
     "name": "stdout",
     "output_type": "stream",
     "text": [
      "['extreme', 'people', 'people', 'living', 'day'] ['infrastructure', 'service', 'high', 'boarding']\n"
     ]
    },
    {
     "name": "stdout",
     "output_type": "stream",
     "text": [
      "['living', 'day'] ['past', 'infrastructure']\n"
     ]
    },
    {
     "name": "stdout",
     "output_type": "stream",
     "text": [
      "[] []\n"
     ]
    },
    {
     "name": "stdout",
     "output_type": "stream",
     "text": [
      "['living'] ['issue']\n"
     ]
    },
    {
     "name": "stdout",
     "output_type": "stream",
     "text": [
      "['extreme', 'measured', 'living'] ['scale', 'infrastructure', 'resources', 'grade', 'quality']\n"
     ]
    },
    {
     "name": "stdout",
     "output_type": "stream",
     "text": [
      "['extreme'] ['quality']\n"
     ]
    },
    {
     "name": "stdout",
     "output_type": "stream",
     "text": [
      "['living', 'day'] ['service', 'resources', 'realities']\n"
     ]
    },
    {
     "name": "stdout",
     "output_type": "stream",
     "text": [
      "['less', 'day'] ['less', 'future']\n"
     ]
    },
    {
     "name": "stdout",
     "output_type": "stream",
     "text": [
      "['currently', 'less'] ['currently', 'less']\n"
     ]
    },
    {
     "name": "stdout",
     "output_type": "stream",
     "text": [
      "[] []\n"
     ]
    },
    {
     "name": "stdout",
     "output_type": "stream",
     "text": [
      "['extreme'] ['quality', 'face']\n"
     ]
    },
    {
     "name": "stdout",
     "output_type": "stream",
     "text": [
      "['eradicate', 'extreme', 'people', 'people', 'living', 'day'] ['quality', 'resource', 'service', 'drawn']\n"
     ]
    },
    {
     "name": "stdout",
     "output_type": "stream",
     "text": [
      "['measured'] ['promoting']\n"
     ]
    },
    {
     "name": "stdout",
     "output_type": "stream",
     "text": [
      "['day'] ['service']\n"
     ]
    },
    {
     "name": "stdout",
     "output_type": "stream",
     "text": [
      "['people', 'people', 'living', 'day'] ['public', 'service']\n"
     ]
    },
    {
     "name": "stdout",
     "output_type": "stream",
     "text": [
      "['day'] ['tertiary']\n"
     ]
    },
    {
     "name": "stdout",
     "output_type": "stream",
     "text": [
      "['eradicate', 'extreme', 'poverty', 'living', 'day'] ['key', 'key', 'need', 'levels', 'provision', 'minimum']\n"
     ]
    },
    {
     "name": "stdout",
     "output_type": "stream",
     "text": [
      "['eradicate', 'living', 'day'] ['infrastructure', 'provision', 'store', 'quarters', 'hall']\n"
     ]
    },
    {
     "name": "stdout",
     "output_type": "stream",
     "text": [
      "['eradicate', 'extreme', 'poverty', 'people', 'people', 'living', 'day'] ['rationalizing', 'provision', 'quarters', 'allowances', 'quality', 'level', 'provision', 'finding', 'tertiary', 'tertiary', 'quality', 'tertiary', 'meet', 'needs', 'society']\n"
     ]
    },
    {
     "name": "stdout",
     "output_type": "stream",
     "text": [
      "['extreme', 'living'] ['quality', 'infrastructure']\n"
     ]
    },
    {
     "name": "stdout",
     "output_type": "stream",
     "text": [
      "[] []\n"
     ]
    },
    {
     "name": "stdout",
     "output_type": "stream",
     "text": [
      "['eradicate', 'extreme', 'people', 'people', 'living', 'day'] ['free', 'services', 'tertiary', 'level', 'right', 'free', 'public', 'services']\n"
     ]
    },
    {
     "name": "stdout",
     "output_type": "stream",
     "text": [
      "[] []\n"
     ]
    },
    {
     "name": "stdout",
     "output_type": "stream",
     "text": [
      "['people', 'people', 'living'] ['domain', 'contribution', 'domains']\n"
     ]
    },
    {
     "name": "stdout",
     "output_type": "stream",
     "text": [
      "['poverty', 'living', 'day'] ['provision', 'services', 'need', 'issues']\n"
     ]
    },
    {
     "name": "stdout",
     "output_type": "stream",
     "text": [
      "[] []\n"
     ]
    },
    {
     "name": "stdout",
     "output_type": "stream",
     "text": [
      "['extreme', 'living', 'day'] ['coverage', 'quality', 'services']\n"
     ]
    },
    {
     "name": "stdout",
     "output_type": "stream",
     "text": [
      "['extreme'] ['goals']\n"
     ]
    },
    {
     "name": "stdout",
     "output_type": "stream",
     "text": [
      "['living', 'less'] ['investments', 'diseases']\n"
     ]
    },
    {
     "name": "stdout",
     "output_type": "stream",
     "text": [
      "[] []\n"
     ]
    },
    {
     "name": "stdout",
     "output_type": "stream",
     "text": [
      "['less'] ['tb', 'malaria']\n"
     ]
    },
    {
     "name": "stdout",
     "output_type": "stream",
     "text": [
      "['less'] ['hiv', 'aids']\n"
     ]
    },
    {
     "name": "stdout",
     "output_type": "stream",
     "text": [
      "['less'] ['hiv', 'aids']\n"
     ]
    },
    {
     "name": "stdout",
     "output_type": "stream",
     "text": [
      "['living'] ['coverage']\n"
     ]
    },
    {
     "name": "stdout",
     "output_type": "stream",
     "text": [
      "['currently'] ['currently']\n"
     ]
    },
    {
     "name": "stdout",
     "output_type": "stream",
     "text": [
      "['day'] ['services']\n"
     ]
    },
    {
     "name": "stdout",
     "output_type": "stream",
     "text": [
      "['day'] ['services']\n"
     ]
    },
    {
     "name": "stdout",
     "output_type": "stream",
     "text": [
      "['living'] ['support']\n"
     ]
    },
    {
     "name": "stdout",
     "output_type": "stream",
     "text": [
      "['people', 'people', 'living'] ['country']\n"
     ]
    },
    {
     "name": "stdout",
     "output_type": "stream",
     "text": [
      "['measured', 'living'] ['last']\n"
     ]
    },
    {
     "name": "stdout",
     "output_type": "stream",
     "text": [
      "['less'] ['growth']\n"
     ]
    },
    {
     "name": "stdout",
     "output_type": "stream",
     "text": [
      "['measured', 'living'] ['percentage', 'stands']\n"
     ]
    },
    {
     "name": "stdout",
     "output_type": "stream",
     "text": [
      "[] []\n"
     ]
    },
    {
     "name": "stdout",
     "output_type": "stream",
     "text": [
      "['living', 'less', 'day'] ['coming', 'services', 'diseases', 'diseases']\n"
     ]
    },
    {
     "name": "stdout",
     "output_type": "stream",
     "text": [
      "['living'] ['resource']\n"
     ]
    },
    {
     "name": "stdout",
     "output_type": "stream",
     "text": [
      "['extreme', 'people', 'people', 'living', 'day'] ['key', 'quality', 'public', 'quality']\n"
     ]
    },
    {
     "name": "stdout",
     "output_type": "stream",
     "text": [
      "['people', 'people', 'living'] ['net', 'population', 'public']\n"
     ]
    },
    {
     "name": "stdout",
     "output_type": "stream",
     "text": [
      "['day'] ['service']\n"
     ]
    },
    {
     "name": "stdout",
     "output_type": "stream",
     "text": [
      "['eradicate', 'extreme', 'poverty', 'day'] ['hand', 'services', 'levels', 'service', 'services', 'needs']\n"
     ]
    },
    {
     "name": "stdout",
     "output_type": "stream",
     "text": [
      "['extreme', 'measured'] ['measure', 'quality']\n"
     ]
    },
    {
     "name": "stdout",
     "output_type": "stream",
     "text": [
      "['living'] ['resource', 'suffers']\n"
     ]
    },
    {
     "name": "stdout",
     "output_type": "stream",
     "text": [
      "[] []\n"
     ]
    },
    {
     "name": "stdout",
     "output_type": "stream",
     "text": [
      "[] []\n"
     ]
    },
    {
     "name": "stdout",
     "output_type": "stream",
     "text": [
      "['extreme', 'day'] ['even', 'region']\n"
     ]
    },
    {
     "name": "stdout",
     "output_type": "stream",
     "text": [
      "['extreme', 'poverty', 'living', 'day'] ['face', 'resource', 'even', 'face', 'need', 'services']\n"
     ]
    },
    {
     "name": "stdout",
     "output_type": "stream",
     "text": [
      "['living'] ['infrastructure']\n"
     ]
    },
    {
     "name": "stdout",
     "output_type": "stream",
     "text": [
      "['measured'] ['rate']\n"
     ]
    },
    {
     "name": "stdout",
     "output_type": "stream",
     "text": [
      "['poverty', 'living', 'day'] ['need', 'service', 'resource']\n"
     ]
    },
    {
     "name": "stdout",
     "output_type": "stream",
     "text": [
      "['people', 'people', 'living'] ['people', 'people', 'people', 'people', 'people']\n"
     ]
    },
    {
     "name": "stdout",
     "output_type": "stream",
     "text": [
      "['extreme', 'living', 'less', 'day'] ['diseases', 'presence', 'high', 'consumption']\n"
     ]
    },
    {
     "name": "stdout",
     "output_type": "stream",
     "text": [
      "['extreme', 'less'] ['diabetes', 'hypertension', 'cancers', 'injuries']\n"
     ]
    },
    {
     "name": "stdout",
     "output_type": "stream",
     "text": [
      "['extreme', 'people', 'people', 'living', 'day'] ['quality', 'life', 'families', 'society']\n"
     ]
    },
    {
     "name": "stdout",
     "output_type": "stream",
     "text": [
      "['poverty'] ['need']\n"
     ]
    },
    {
     "name": "stdout",
     "output_type": "stream",
     "text": [
      "['less'] ['hiv', 'aids', 'tb', 'malaria', 'diseases', 'hiv', 'aids']\n"
     ]
    },
    {
     "name": "stdout",
     "output_type": "stream",
     "text": [
      "['poverty', 'people', 'people', 'living', 'less'] ['affluence', 'labour', 'people', 'hiv', 'aids']\n"
     ]
    },
    {
     "name": "stdout",
     "output_type": "stream",
     "text": [
      "['less'] ['tb']\n"
     ]
    },
    {
     "name": "stdout",
     "output_type": "stream",
     "text": [
      "['less'] ['tb', 'hiv', 'tb', 'infection']\n"
     ]
    },
    {
     "name": "stdout",
     "output_type": "stream",
     "text": [
      "['people', 'people', 'living', 'less'] ['malaria', 'free', 'disease']\n"
     ]
    },
    {
     "name": "stdout",
     "output_type": "stream",
     "text": [
      "['eradicate', 'extreme', 'living', 'less'] ['eliminate', 'malaria', 'border', 'issue']\n"
     ]
    },
    {
     "name": "stdout",
     "output_type": "stream",
     "text": [
      "['less'] ['dengue']\n"
     ]
    },
    {
     "name": "stdout",
     "output_type": "stream",
     "text": [
      "[] []\n"
     ]
    },
    {
     "name": "stdout",
     "output_type": "stream",
     "text": [
      "['extreme', 'people', 'people', 'living'] ['countries', 'region', 'low', 'allocations']\n"
     ]
    },
    {
     "name": "stdout",
     "output_type": "stream",
     "text": [
      "[] []\n"
     ]
    },
    {
     "name": "stdout",
     "output_type": "stream",
     "text": [
      "[] []\n"
     ]
    },
    {
     "name": "stdout",
     "output_type": "stream",
     "text": [
      "['poverty'] ['need']\n"
     ]
    },
    {
     "name": "stdout",
     "output_type": "stream",
     "text": [
      "['people', 'people', 'living'] ['people']\n"
     ]
    },
    {
     "name": "stdout",
     "output_type": "stream",
     "text": [
      "['eradicate', 'people', 'people', 'living', 'less'] ['malnutrition', 'wasting', 'public', 'issue']\n"
     ]
    },
    {
     "name": "stdout",
     "output_type": "stream",
     "text": [
      "['people', 'people', 'living', 'less'] ['anemia', 'women']\n"
     ]
    },
    {
     "name": "stdout",
     "output_type": "stream",
     "text": [
      "['living', 'day'] ['experiencing', 'occurrences']\n"
     ]
    },
    {
     "name": "stdout",
     "output_type": "stream",
     "text": [
      "['poverty', 'people', 'people', 'living'] ['need', 'agriculture']\n"
     ]
    },
    {
     "name": "stdout",
     "output_type": "stream",
     "text": [
      "['people', 'people', 'living'] ['free', 'coverage']\n"
     ]
    },
    {
     "name": "stdout",
     "output_type": "stream",
     "text": [
      "['currently'] ['currently']\n"
     ]
    },
    {
     "name": "stdout",
     "output_type": "stream",
     "text": [
      "['extreme', 'people', 'measured', 'people', 'living', 'day'] ['recommend', 'country', 'allocation', 'quality', 'services']\n"
     ]
    },
    {
     "name": "stdout",
     "output_type": "stream",
     "text": [
      "['living'] ['fund', 'support']\n"
     ]
    },
    {
     "name": "stdout",
     "output_type": "stream",
     "text": [
      "['measured', 'living'] ['endowment', 'fund', 'stands']\n"
     ]
    },
    {
     "name": "stdout",
     "output_type": "stream",
     "text": [
      "['poverty', 'measured', 'day'] ['need', 'promote', 'services', 'promoted']\n"
     ]
    },
    {
     "name": "stdout",
     "output_type": "stream",
     "text": [
      "['eradicate', 'extreme', 'people', 'people', 'living', 'day'] ['service', 'line', 'take', 'services', 'level']\n"
     ]
    },
    {
     "name": "stdout",
     "output_type": "stream",
     "text": [
      "['extreme', 'living', 'day'] ['service', 'quality', 'assurance']\n"
     ]
    },
    {
     "name": "stdout",
     "output_type": "stream",
     "text": [
      "['extreme', 'day'] ['quality', 'services', 'emphasis']\n"
     ]
    },
    {
     "name": "stdout",
     "output_type": "stream",
     "text": [
      "[] []\n"
     ]
    },
    {
     "name": "stdout",
     "output_type": "stream",
     "text": [
      "['living'] ['resource']\n"
     ]
    },
    {
     "name": "stdout",
     "output_type": "stream",
     "text": [
      "['eradicate', 'extreme', 'poverty', 'people', 'measured', 'people', 'living', 'day'] ['line', 'coverage', 'services', 'level', 'standardized', 'services', 'need']\n"
     ]
    },
    {
     "name": "stdout",
     "output_type": "stream",
     "text": [
      "['living', 'less'] ['investment', 'diseases']\n"
     ]
    },
    {
     "name": "stdout",
     "output_type": "stream",
     "text": [
      "['extreme', 'people', 'people', 'living', 'less'] ['emphasis', 'public', 'injuries', 'hiv', 'aids', 'tb', 'malaria', 'diseases']\n"
     ]
    },
    {
     "name": "stdout",
     "output_type": "stream",
     "text": [
      "['people', 'people', 'living'] ['resources', 'resource', 'line']\n"
     ]
    },
    {
     "name": "stdout",
     "output_type": "stream",
     "text": [
      "['day'] ['service']\n"
     ]
    },
    {
     "name": "stdout",
     "output_type": "stream",
     "text": [
      "['poverty'] ['need']\n"
     ]
    },
    {
     "name": "stdout",
     "output_type": "stream",
     "text": [
      "['measured', 'living', 'day'] ['push', 'go', 'coverage']\n"
     ]
    },
    {
     "name": "stdout",
     "output_type": "stream",
     "text": [
      "['poverty', 'people', 'people', 'living'] ['country', 'needs']\n"
     ]
    },
    {
     "name": "stdout",
     "output_type": "stream",
     "text": [
      "['people', 'measured', 'people', 'living', 'day'] ['measures', 'free', 'services']\n"
     ]
    },
    {
     "name": "stdout",
     "output_type": "stream",
     "text": [
      "['measured'] ['measures']\n"
     ]
    },
    {
     "name": "stdout",
     "output_type": "stream",
     "text": [
      "[] []\n"
     ]
    },
    {
     "name": "stdout",
     "output_type": "stream",
     "text": [
      "['living', 'day'] ['potential']\n"
     ]
    },
    {
     "name": "stdout",
     "output_type": "stream",
     "text": [
      "['poverty'] ['needs']\n"
     ]
    },
    {
     "name": "stdout",
     "output_type": "stream",
     "text": [
      "[] []\n"
     ]
    },
    {
     "name": "stdout",
     "output_type": "stream",
     "text": [
      "['day'] ['services']\n"
     ]
    },
    {
     "name": "stdout",
     "output_type": "stream",
     "text": [
      "['extreme', 'measured', 'living', 'day'] ['infrastructure', 'resource', 'pace', 'infrastructure', 'resources', 'infrastructure', 'quality', 'services']\n"
     ]
    },
    {
     "name": "stdout",
     "output_type": "stream",
     "text": [
      "['living'] ['existing']\n"
     ]
    },
    {
     "name": "stdout",
     "output_type": "stream",
     "text": [
      "['living'] ['infrastructure', 'infrastructure']\n"
     ]
    },
    {
     "name": "stdout",
     "output_type": "stream",
     "text": [
      "['day'] ['key', 'services']\n"
     ]
    },
    {
     "name": "stdout",
     "output_type": "stream",
     "text": [
      "[] []\n"
     ]
    },
    {
     "name": "stdout",
     "output_type": "stream",
     "text": [
      "[] []\n"
     ]
    },
    {
     "name": "stdout",
     "output_type": "stream",
     "text": [
      "[] []\n"
     ]
    },
    {
     "name": "stdout",
     "output_type": "stream",
     "text": [
      "[] []\n"
     ]
    },
    {
     "name": "stdout",
     "output_type": "stream",
     "text": [
      "['people', 'people', 'living'] ['public']\n"
     ]
    },
    {
     "name": "stdout",
     "output_type": "stream",
     "text": [
      "[] []\n"
     ]
    },
    {
     "name": "stdout",
     "output_type": "stream",
     "text": [
      "[] []\n"
     ]
    },
    {
     "name": "stdout",
     "output_type": "stream",
     "text": [
      "['measured', 'day'] ['services', 'scaling']\n"
     ]
    },
    {
     "name": "stdout",
     "output_type": "stream",
     "text": [
      "['people', 'measured', 'people', 'living', 'day'] ['country', 'time']\n"
     ]
    },
    {
     "name": "stdout",
     "output_type": "stream",
     "text": [
      "['people', 'people', 'living', 'day'] ['public', 'services']\n"
     ]
    },
    {
     "name": "stdout",
     "output_type": "stream",
     "text": [
      "['living'] ['resources']\n"
     ]
    },
    {
     "name": "stdout",
     "output_type": "stream",
     "text": [
      "['day'] ['services']\n"
     ]
    },
    {
     "name": "stdout",
     "output_type": "stream",
     "text": [
      "['people', 'people', 'living'] ['resource', 'resources', 'society']\n"
     ]
    },
    {
     "name": "stdout",
     "output_type": "stream",
     "text": [
      "['extreme', 'people', 'people', 'living', 'day'] ['high', 'resource', 'investments', 'country', 'country', 'resource', 'services', 'resource']\n"
     ]
    },
    {
     "name": "stdout",
     "output_type": "stream",
     "text": [
      "['extreme', 'people', 'people', 'living'] ['quality', 'resources', 'high', 'public']\n"
     ]
    },
    {
     "name": "stdout",
     "output_type": "stream",
     "text": [
      "['extreme', 'less'] ['dependency', 'high']\n"
     ]
    },
    {
     "name": "stdout",
     "output_type": "stream",
     "text": [
      "['living'] ['pool']\n"
     ]
    },
    {
     "name": "stdout",
     "output_type": "stream",
     "text": [
      "['people', 'people', 'living', 'day'] ['labour', 'resources', 'service']\n"
     ]
    },
    {
     "name": "stdout",
     "output_type": "stream",
     "text": [
      "['living', 'day'] ['service', 'security', 'opportunities']\n"
     ]
    },
    {
     "name": "stdout",
     "output_type": "stream",
     "text": [
      "[] []\n"
     ]
    },
    {
     "name": "stdout",
     "output_type": "stream",
     "text": [
      "['living', 'day'] ['service', 'support']\n"
     ]
    },
    {
     "name": "stdout",
     "output_type": "stream",
     "text": [
      "['less', 'day'] ['less', 'service']\n"
     ]
    },
    {
     "name": "stdout",
     "output_type": "stream",
     "text": [
      "['extreme', 'living', 'day'] ['bachelors', 'degree', 'post', 'masters', 'degree']\n"
     ]
    },
    {
     "name": "stdout",
     "output_type": "stream",
     "text": [
      "['extreme', 'living'] ['resources', 'issue', 'meet', 'minimum']\n"
     ]
    },
    {
     "name": "stdout",
     "output_type": "stream",
     "text": [
      "['living'] ['percentage', 'meeting', 'support']\n"
     ]
    },
    {
     "name": "stdout",
     "output_type": "stream",
     "text": [
      "['eradicate', 'extreme', 'living', 'day'] ['key', 'service', 'percentage', 'levels', 'meeting', 'minimum', 'high']\n"
     ]
    },
    {
     "name": "stdout",
     "output_type": "stream",
     "text": [
      "['extreme', 'living'] ['issue', 'high']\n"
     ]
    },
    {
     "name": "stdout",
     "output_type": "stream",
     "text": [
      "['poverty', 'living'] ['resource', 'needs']\n"
     ]
    },
    {
     "name": "stdout",
     "output_type": "stream",
     "text": [
      "['extreme', 'people', 'people', 'living'] ['hand', 'hand', 'youth', 'high']\n"
     ]
    },
    {
     "name": "stdout",
     "output_type": "stream",
     "text": [
      "['people', 'people'] ['fill']\n"
     ]
    },
    {
     "name": "stdout",
     "output_type": "stream",
     "text": [
      "[] []\n"
     ]
    },
    {
     "name": "stdout",
     "output_type": "stream",
     "text": [
      "['day'] ['service', 'service']\n"
     ]
    },
    {
     "name": "stdout",
     "output_type": "stream",
     "text": [
      "['extreme'] ['high']\n"
     ]
    },
    {
     "name": "stdout",
     "output_type": "stream",
     "text": [
      "['people', 'measured', 'people', 'living', 'day'] ['last', 'months', 'lost']\n"
     ]
    },
    {
     "name": "stdout",
     "output_type": "stream",
     "text": [
      "['poverty', 'living'] ['resource', 'issues', 'need']\n"
     ]
    },
    {
     "name": "stdout",
     "output_type": "stream",
     "text": [
      "['day'] ['key', 'service']\n"
     ]
    },
    {
     "name": "stdout",
     "output_type": "stream",
     "text": [
      "['currently', 'living'] ['currently', 'allowance']\n"
     ]
    },
    {
     "name": "stdout",
     "output_type": "stream",
     "text": [
      "['living', 'less', 'day'] ['present', 'growth', 'service', 'coming']\n"
     ]
    },
    {
     "name": "stdout",
     "output_type": "stream",
     "text": [
      "['people', 'people', 'living', 'day'] ['key', 'key', 'resource', 'service', 'labour', 'resources']\n"
     ]
    },
    {
     "name": "stdout",
     "output_type": "stream",
     "text": [
      "['day'] ['service', 'services']\n"
     ]
    },
    {
     "name": "stdout",
     "output_type": "stream",
     "text": [
      "['extreme', 'living'] ['resource', 'emphasis']\n"
     ]
    },
    {
     "name": "stdout",
     "output_type": "stream",
     "text": [
      "['living'] ['support']\n"
     ]
    },
    {
     "name": "stdout",
     "output_type": "stream",
     "text": [
      "['living', 'day'] ['resources', 'hr']\n"
     ]
    },
    {
     "name": "stdout",
     "output_type": "stream",
     "text": [
      "['extreme', 'day'] ['open', 'past']\n"
     ]
    },
    {
     "name": "stdout",
     "output_type": "stream",
     "text": [
      "['living', 'day'] ['hr', 'resources']\n"
     ]
    },
    {
     "name": "stdout",
     "output_type": "stream",
     "text": [
      "[] []\n"
     ]
    },
    {
     "name": "stdout",
     "output_type": "stream",
     "text": [
      "['living'] ['resource']\n"
     ]
    },
    {
     "name": "stdout",
     "output_type": "stream",
     "text": [
      "[] []\n"
     ]
    },
    {
     "name": "stdout",
     "output_type": "stream",
     "text": [
      "['living'] ['resource']\n"
     ]
    },
    {
     "name": "stdout",
     "output_type": "stream",
     "text": [
      "['people', 'people', 'living', 'less'] ['labour', 'conditions']\n"
     ]
    },
    {
     "name": "stdout",
     "output_type": "stream",
     "text": [
      "[] []\n"
     ]
    },
    {
     "name": "stdout",
     "output_type": "stream",
     "text": [
      "['measured'] ['rate']\n"
     ]
    },
    {
     "name": "stdout",
     "output_type": "stream",
     "text": [
      "['people', 'people', 'living', 'day'] ['period', 'hour', 'business', 'going']\n"
     ]
    },
    {
     "name": "stdout",
     "output_type": "stream",
     "text": [
      "['day'] ['period', 'week', 'date']\n"
     ]
    },
    {
     "name": "stdout",
     "output_type": "stream",
     "text": [
      "['extreme', 'people', 'people', 'living'] ['labour', 'force', 'labour', 'resources']\n"
     ]
    },
    {
     "name": "stdout",
     "output_type": "stream",
     "text": [
      "['measured'] ['rates']\n"
     ]
    },
    {
     "name": "stdout",
     "output_type": "stream",
     "text": [
      "['eradicate', 'extreme', 'people', 'people', 'living'] ['levels', 'youth']\n"
     ]
    },
    {
     "name": "stdout",
     "output_type": "stream",
     "text": [
      "['people', 'people', 'living', 'less'] ['agriculture', 'public', 'less']\n"
     ]
    },
    {
     "name": "stdout",
     "output_type": "stream",
     "text": [
      "['people', 'people', 'living'] ['percentage', 'agriculture', 'trade']\n"
     ]
    },
    {
     "name": "stdout",
     "output_type": "stream",
     "text": [
      "['people', 'people', 'living'] ['agriculture', 'family']\n"
     ]
    },
    {
     "name": "stdout",
     "output_type": "stream",
     "text": [
      "['eradicate', 'extreme', 'measured'] ['level', 'rate', 'rates']\n"
     ]
    },
    {
     "name": "stdout",
     "output_type": "stream",
     "text": [
      "['measured', 'less'] ['rate', 'less']\n"
     ]
    },
    {
     "name": "stdout",
     "output_type": "stream",
     "text": [
      "['extreme', 'measured', 'day'] ['key', 'quality', 'rates', 'quality']\n"
     ]
    },
    {
     "name": "stdout",
     "output_type": "stream",
     "text": [
      "['people', 'measured', 'people', 'living', 'less'] ['agriculture', 'growth', 'rate']\n"
     ]
    },
    {
     "name": "stdout",
     "output_type": "stream",
     "text": [
      "['eradicate', 'extreme', 'less', 'day'] ['growth', 'tertiary', 'levels', 'growth']\n"
     ]
    },
    {
     "name": "stdout",
     "output_type": "stream",
     "text": [
      "['people', 'people', 'living', 'day'] ['even', 'income', 'security', 'agriculture', 'family']\n"
     ]
    },
    {
     "name": "stdout",
     "output_type": "stream",
     "text": [
      "['people', 'people', 'living'] ['women']\n"
     ]
    },
    {
     "name": "stdout",
     "output_type": "stream",
     "text": [
      "['extreme', 'people', 'people', 'living', 'day'] ['agriculture', 'hours', 'hours', 'earnings', 'low', 'income']\n"
     ]
    },
    {
     "name": "stdout",
     "output_type": "stream",
     "text": [
      "['living'] ['incomes']\n"
     ]
    },
    {
     "name": "stdout",
     "output_type": "stream",
     "text": [
      "[] []\n"
     ]
    },
    {
     "ename": "ZeroDivisionError",
     "evalue": "division by zero",
     "traceback": [
      "\u001b[0;31m---------------------------------------------------------------------------\u001b[0m",
      "\u001b[0;31mZeroDivisionError\u001b[0m                         Traceback (most recent call last)",
      "\u001b[0;32m<ipython-input-28-5f75b41de7eb>\u001b[0m in \u001b[0;36m<module>\u001b[0;34m()\u001b[0m\n\u001b[1;32m      1\u001b[0m \u001b[0;32mfor\u001b[0m \u001b[0ms\u001b[0m \u001b[0;32min\u001b[0m \u001b[0msen\u001b[0m\u001b[0;34m:\u001b[0m\u001b[0;34m\u001b[0m\u001b[0m\n\u001b[0;32m----> 2\u001b[0;31m     \u001b[0mscore\u001b[0m \u001b[0;34m=\u001b[0m \u001b[0mmySim\u001b[0m\u001b[0;34m(\u001b[0m\u001b[0mtarget\u001b[0m\u001b[0;34m,\u001b[0m \u001b[0ms\u001b[0m\u001b[0;34m)\u001b[0m\u001b[0;34m\u001b[0m\u001b[0m\n\u001b[0m\u001b[1;32m      3\u001b[0m     \u001b[0;32mif\u001b[0m \u001b[0mscore\u001b[0m \u001b[0;34m>\u001b[0m \u001b[0;36m0.7\u001b[0m\u001b[0;34m:\u001b[0m\u001b[0;34m\u001b[0m\u001b[0m\n\u001b[1;32m      4\u001b[0m         \u001b[0mprint\u001b[0m\u001b[0;34m(\u001b[0m\u001b[0ms\u001b[0m\u001b[0;34m)\u001b[0m\u001b[0;34m\u001b[0m\u001b[0m\n",
      "\u001b[0;32m<ipython-input-26-11b886881595>\u001b[0m in \u001b[0;36mmySim\u001b[0;34m(text1, text2, sigma, w, corpus)\u001b[0m\n\u001b[1;32m     84\u001b[0m         \u001b[0msim_score_0\u001b[0m \u001b[0;34m=\u001b[0m \u001b[0;36m1\u001b[0m \u001b[0;34m-\u001b[0m \u001b[0;36m2\u001b[0m \u001b[0;34m*\u001b[0m \u001b[0mtotal\u001b[0m \u001b[0;34m/\u001b[0m \u001b[0;34m(\u001b[0m\u001b[0mcount\u001b[0m \u001b[0;34m**\u001b[0m \u001b[0;36m2\u001b[0m \u001b[0;34m-\u001b[0m \u001b[0;36m1\u001b[0m\u001b[0;34m)\u001b[0m\u001b[0;34m\u001b[0m\u001b[0m\n\u001b[1;32m     85\u001b[0m \u001b[0;34m\u001b[0m\u001b[0m\n\u001b[0;32m---> 86\u001b[0;31m     \u001b[0mS\u001b[0m \u001b[0;34m=\u001b[0m \u001b[0;34m(\u001b[0m\u001b[0;34m(\u001b[0m\u001b[0mm\u001b[0m \u001b[0;34m+\u001b[0m \u001b[0mn\u001b[0m\u001b[0;34m)\u001b[0m \u001b[0;34m/\u001b[0m \u001b[0;34m(\u001b[0m\u001b[0;36m2\u001b[0m \u001b[0;34m*\u001b[0m \u001b[0mm\u001b[0m \u001b[0;34m*\u001b[0m \u001b[0mn\u001b[0m\u001b[0;34m)\u001b[0m\u001b[0;34m)\u001b[0m \u001b[0;34m*\u001b[0m \u001b[0;34m(\u001b[0m\u001b[0mcount\u001b[0m \u001b[0;34m*\u001b[0m \u001b[0;34m(\u001b[0m\u001b[0;36m1\u001b[0m \u001b[0;34m-\u001b[0m \u001b[0mw\u001b[0m \u001b[0;34m*\u001b[0m \u001b[0;34m(\u001b[0m\u001b[0;36m1\u001b[0m \u001b[0;34m-\u001b[0m \u001b[0msim_score_0\u001b[0m\u001b[0;34m)\u001b[0m\u001b[0;34m)\u001b[0m\u001b[0;34m)\u001b[0m\u001b[0;34m\u001b[0m\u001b[0m\n\u001b[0m\u001b[1;32m     87\u001b[0m \u001b[0;34m\u001b[0m\u001b[0m\n\u001b[1;32m     88\u001b[0m     \u001b[0;32mreturn\u001b[0m \u001b[0mS\u001b[0m\u001b[0;34m\u001b[0m\u001b[0m\n",
      "\u001b[0;31mZeroDivisionError\u001b[0m: division by zero"
     ],
     "output_type": "error"
    }
   ],
   "source": [
    "for s in sen: \n",
    "    score = mySim(target, s)\n",
    "    if score > 0.7:\n",
    "        print(s)"
   ]
  },
  {
   "cell_type": "code",
   "execution_count": null,
   "metadata": {},
   "outputs": [],
   "source": [
    ""
   ]
  }
 ],
 "metadata": {
  "kernelspec": {
   "display_name": "Python 2",
   "language": "python",
   "name": "python2"
  },
  "language_info": {
   "codemirror_mode": {
    "name": "ipython",
    "version": 2.0
   },
   "file_extension": ".py",
   "mimetype": "text/x-python",
   "name": "python",
   "nbconvert_exporter": "python",
   "pygments_lexer": "ipython2",
   "version": "2.7.6"
  }
 },
 "nbformat": 4,
 "nbformat_minor": 0
}