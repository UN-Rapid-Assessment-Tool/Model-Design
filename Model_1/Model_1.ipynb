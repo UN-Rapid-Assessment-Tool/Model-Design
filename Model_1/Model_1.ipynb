{
 "cells": [
  {
   "cell_type": "code",
   "execution_count": null,
   "metadata": {
    "collapsed": true
   },
   "outputs": [],
   "source": [
    "# -*- coding: utf-8 -*-\n",
    "# Python 3.5\n",
    "# combodia"
   ]
  },
  {
   "cell_type": "code",
   "execution_count": 1,
   "metadata": {
    "collapsed": true
   },
   "outputs": [],
   "source": [
    "# load file to list 'sentences' split by sentence\n",
    "\n",
    "import re\n",
    "caps = \"([A-Z])\"\n",
    "prefixes = \"(Mr|St|Mrs|Ms|Dr)[.]\"\n",
    "suffixes = \"(Inc|Ltd|Jr|Sr|Co)\"\n",
    "starters = \"(Mr|Mrs|Ms|Dr|He\\s|She\\s|It\\s|They\\s|Their\\s|Our\\s|We\\s|But\\s|However\\s|That\\s|This\\s|Wherever)\"\n",
    "acronyms = \"([A-Z][.][A-Z][.](?:[A-Z][.])?)\"\n",
    "websites = \"[.](com|net|org|io|gov)\"\n",
    "\n",
    "def to_sentences(text):\n",
    "    text = \" \" + text + \"  \"\n",
    "    text = text.replace(\"\\n\", \" \")\n",
    "    text = re.sub(prefixes, \"\\\\1<prd>\", text)\n",
    "    text = re.sub(websites, \"<prd>\\\\1\", text)\n",
    "    if \"Ph.D\" in text: text = text.replace(\"Ph.D.\", \"Ph<prd>D<prd>\")\n",
    "    text = re.sub(\"\\s\" + caps + \"[.] \", \" \\\\1<prd> \", text)\n",
    "    text = re.sub(acronyms+\" \"+starters, \"\\\\1<stop> \\\\2\", text)\n",
    "    text = re.sub(caps + \"[.]\" + caps + \"[.]\" + caps + \"[.]\", \"\\\\1<prd>\\\\2<prd>\\\\3<prd>\", text)\n",
    "    text = re.sub(caps + \"[.]\" + caps + \"[.]\", \"\\\\1<prd>\\\\2<prd>\", text)\n",
    "    text = re.sub(\" \"+suffixes+\"[.] \"+starters, \" \\\\1<stop> \\\\2\", text)\n",
    "    text = re.sub(\" \"+suffixes+\"[.]\", \" \\\\1<prd>\", text)\n",
    "    text = re.sub(\" \" + caps + \"[.]\", \" \\\\1<prd>\", text)\n",
    "    if \"”\" in text: text = text.replace(\".”\", \"”.\")\n",
    "    if \"\\\"\" in text: text = text.replace(\".\\\"\", \"\\\".\")\n",
    "    if \"!\" in text: text = text.replace(\"!\\\"\", \"\\\"!\")\n",
    "    if \"?\" in text: text = text.replace(\"?\\\"\", \"\\\"?\")\n",
    "    text = text.replace(\".\", \".<stop>\")\n",
    "    text = text.replace(\"?\", \"?<stop>\")\n",
    "    text = text.replace(\"!\", \"!<stop>\")\n",
    "    text = text.replace(\"<prd>\", \".\")\n",
    "    text = text.replace(\",  \", \", \")\n",
    "    text = text.replace(\"  \", \" \")\n",
    "    sentences = text.split(\"<stop>\")\n",
    "    sentences = sentences[:-1]\n",
    "    sentences = [s.strip() for s in sentences]\n",
    "    return sentences"
   ]
  },
  {
   "cell_type": "code",
   "execution_count": 4,
   "metadata": {
    "collapsed": false
   },
   "outputs": [
    {
     "data": {
      "text/plain": [
       "5421"
      ]
     },
     "execution_count": 4,
     "metadata": {},
     "output_type": "execute_result"
    }
   ],
   "source": [
    "# \"NSDP.txt\" is transformed by Cambodia's \"National Strategic Development Plan 2014-2018 EN Final.pdf\"\n",
    "# using Adobe\n",
    "\n",
    "dirc = r'C:\\\\Users\\\\DD\\\\OneDrive\\\\Documents\\\\Rapid_Assessment_Tools\\\\Plans_test\\\\cambodia\\\\'\n",
    "\n",
    "f = open(dirc + 'NSDP.txt', 'r').read()\n",
    "sentence_temp = to_sentences(f)\n",
    "\n",
    "# any sentence more than 30 will be remained.\n",
    "sentence = []\n",
    "for lines in sentence_temp:\n",
    "    if len(lines) > 30:\n",
    "        sentence.append(lines.lower())\n",
    "len(sentence)"
   ]
  },
  {
   "cell_type": "code",
   "execution_count": 5,
   "metadata": {
    "collapsed": false
   },
   "outputs": [
    {
     "data": {
      "text/plain": [
       "5313"
      ]
     },
     "execution_count": 5,
     "metadata": {},
     "output_type": "execute_result"
    }
   ],
   "source": [
    "# delete repeated\n",
    "sentence = list(set(sentence))\n",
    "len(sentence)"
   ]
  },
  {
   "cell_type": "code",
   "execution_count": 6,
   "metadata": {
    "collapsed": true
   },
   "outputs": [],
   "source": [
    "# This is not the final dictionary, just slice of dict for model design use\n",
    "\n",
    "# goal_1_1\n",
    "poverty = ['poverty','poor','famine','poornes','impoverishment','poorness','poverty','wealth','bankruptcy','debt','deficit','difficulty','famine','hardship','lack','scarcity','shortage','vation','underdevelopment','abjection','aridity','barrenness','beggary','dearth','deficiency','depletion','destitution','distress','emptiness','exiguity','impecuniousness','impoverishment','inadequacy','indigence','insolvency','insufficiency','meagerness','necessity','pass','paucity','pauperism','pennilessness','penury','pinch','poorness','privation','reduction','straits','vacancy','necessitousness']\n",
    "#extreme = ['extreme','acute','intense','severe','utmost','maximum','ultimate','uttermost','consummate','extremepoint','extremum']\n",
    "#living_cost = ['aliveness','bread and butter','dwell','endure','experience','inhabit','life','live','live on','livelihood','living','populate','subsist','support','survive','surviving','sustenance','dead','expense','price aid','amount','charge','damage','expenditure','figure','outlay','payment','price','price tag','rate','tariff','value','worth','bite','disbursement','dues','line','nick','nut','score','setback','squeeze','tab','ticket','toll','arm and a leg','bottom dollar','bottom line','top dollar']\n",
    "#eradicate = ['eradicate','reduction','cut','drop','contraction','decrease','annihilate','carry off','decimate','eliminate','eradicate','exterminate','extinguish','extirpate','root out','uproot','wipe out','destroy','remove','abolish','annihilate','eliminate','erase','expunge','exterminate','extinguish','stamp out','uproot','weed out','wipe out','abate','demolish','deracinate','efface','extirpate','liquidate','obliterate','off','purge','raze','scratch','scrub','squash','torpedo','total','trash','waste','blot out','do away with','mow down','root out','rub out','shoot down','take out','unroot','wash out']\n",
    "reduce = ['less','decrease','curtail','cut','cut down','diminish','dwindle','lessen','lower','pare','scale down','shorten','slash','trim','weaken','abate','abridge','bankrupt','break','cheapen','chop','clip','contract','debase','deflate','depreciate','depress','diet','dilute','discount','drain','impair','impoverish','moderate','pauperize','rebate','recede','ruin','shave','slim','taper','truncate','bant','cut back','go on a diet','lose weight','mark down','nutshell','roll back','slow down','step down','take off weight','taper off','tone down','turn down','wind down','compliment','develop','enlarge','expand','extend','grow','increase','lengthen','praise','prolong','raise','strengthen','amplify','enhance','laud','rise','stretch','upgrade','invigorate','win']\n",
    "achieve = ['strengthen','achieve','bring to successful conclusion','reach goal','accomplish','attain','bring about','carry out','complete','conclude','do','earn','enact','end','gain','manage','obtain','produce','reach','realize','resolve','settle','sign','solve','win','work out','acquire','actualize','cap','close','consummate','deliver','discharge','dispatch','effect','effectuate','execute','finish','fulfill','get','negotiate','perfect','perform','procure','score','seal','bring off','bring to pass','carry through','earn wings','follow through','get done','rack up','see through','wind up']\n",
    "\n",
    "# goal_1_2\n",
    "proportion = ['bulk','capacity','dimension','distribution','fraction','magnitude','percentage','portion','rate','ratio','scale','scope','share','volume','amplitude','apportionment','breadth','cut','degree','division','equation','expanse','extent','measure','measurement','part','quota','relationship','segment','admeasurement','proportion']\n",
    "\n",
    "# goal_1_3\n",
    "social_protection = ['social protection','labour markets','capacity','unemployment','sickness','disability','old age','labor market intervention','labor market','social insurance','social assistance','health insurance','unemployment insurance','protection','insurance','safety','security']\n",
    "vulnerable = ['vulnerable','unemployment','ill health','disability','work-related injury','old age','single parents','homeless','physically challenged','mentally challenged','infant','women','poor','baby','adolescent','old','preganent','girl','child','mternal','children','pregnant women','elderly people','malnourished people','ill people','immunocompromised','people']\n",
    "coverage = ['coverage','broadcasting','scope','include','contain','comprise','encompass','involve','provide for','reach','comprehend','embrace','incorporate','meet','suffice','be enough','cover']\n",
    "\n",
    "# goal_1_4\n",
    "equal_right = ['equal rights','feminism','rights of women','sisterhood','womanism','women\\'s lib','women\\'s liberation movement','women\\'s movement','uniform privilege','uniform authority','uniform benefit','uniform business','uniform claim','uniform freedom','uniform immunity','uniform interest','uniform license','uniform power','uniform priority','uniform advantage','uniform appanage','uniform birthright','uniform comeuppance','uniform deserving','uniform due','uniform exemption','uniform favor','uniform franchise','uniform liberty','uniform merit','uniform permission','uniform perquisite','uniform preference','uniform prerogative','uniform title','balanced privilege','balanced authority','balanced benefit','balanced business','balanced claim','balanced freedom','balanced immunity','balanced interest','balanced license','balanced power','balanced priority','balanced advantage','balanced appanage','balanced birthright','balanced comeuppance','balanced deserving','balanced due','balanced exemption','balanced favor','balanced franchise','balanced liberty','balanced merit','balanced permission','balanced perquisite','balanced preference','balanced prerogative','balanced title','comparable privilege','comparable authority','comparable benefit','comparable business','comparable claim','comparable freedom','comparable immunity','comparable interest','comparable license','comparable power','comparable priority','comparable advantage','comparable appanage','comparable birthright','comparable comeuppance','comparable deserving','comparable due','comparable exemption','comparable favor','comparable franchise','comparable liberty','comparable merit','comparable permission','comparable perquisite','comparable preference','comparable prerogative','comparable title','equivalent privilege','equivalent authority','equivalent benefit','equivalent business','equivalent claim','equivalent freedom','equivalent immunity','equivalent interest','equivalent license','equivalent power','equivalent priority','equivalent advantage','equivalent appanage','equivalent birthright','equivalent comeuppance','equivalent deserving','equivalent due','equivalent exemption','equivalent favor','equivalent franchise','equivalent liberty','equivalent merit','equivalent permission','equivalent perquisite','equivalent preference','equivalent prerogative','equivalent title','identical privilege','identical authority','identical benefit','identical business','identical claim','identical freedom','identical immunity','identical interest','identical license','identical power','identical priority','identical advantage','identical appanage','identical birthright','identical comeuppance','identical deserving','identical due','identical exemption','identical favor','identical franchise','identical liberty','identical merit','identical permission','identical perquisite','identical preference','identical prerogative','identical title','coordinate privilege','coordinate authority','coordinate benefit','coordinate business','coordinate claim','coordinate freedom','coordinate immunity','coordinate interest','coordinate license','coordinate power','coordinate priority','coordinate advantage','coordinate appanage','coordinate birthright','coordinate comeuppance','coordinate deserving','coordinate due','coordinate exemption','coordinate favor','coordinate franchise','coordinate liberty','coordinate merit','coordinate permission','coordinate perquisite','coordinate preference','coordinate prerogative','coordinate title','level privilege','level authority','level benefit','level business','level claim','level freedom','level immunity','level interest','level license','level power','level priority','level advantage','level appanage','level birthright','level comeuppance','level deserving','level due','level exemption','level favor','level franchise','level liberty','level merit','level permission','level perquisite','level preference','level prerogative','level title','same privilege','same authority','same benefit','same business','same claim','same freedom','same immunity','same interest','same license','same power','same priority','same advantage','same appanage','same birthright','same comeuppance','same deserving','same due','same exemption','same favor','same franchise','same liberty','same merit','same permission','same perquisite','same preference','same prerogative','same title']\n",
    "economic_resource = ['economic resources','goods','valuable product','consumer product','land','labor','capital','factors of production','entrepreneurship','timber','land','fisheries','farm','food','animal','consumer goods','able-bodied individual','human capital','worker','monetary','asset','building','production facility','equipment','vehicle','training','skill','train','basic services','ownership','control over land','property','inheritance','natural resources','technology','financial services','microfinance']\n",
    "\n",
    "# goal_1_5\n",
    "extreme_event = ['extreme event','climate-related','extreme event','economic shock','social shock','environmental shock','economic disaster','social disaster','environmental disaster','collapse','crash','defeat','emergency','failure','flood','harm','hazard','mishap','tragedy','blow','casualty','depression','stoke','ruin','rough','rock','reverse','grief','fall','adversity','misfortune','collision','earthquake','impact','injury','trauma','floods','storm','drought','heat wave','hurricane','tornadoe','volcanic eruption','earthquakes','tsunami','geologic process','property damage','avalanch','landslide','sinkhole','volcanic eruption','limnic eruption','blizzard','cyclonic storm','drought','thunderstorm','hailstorm','heat wave','tornado','wildfires']\n",
    "resilience = ['elasticity','flexibility','pliancy','recoil','snap','bounce','adaptability','affability','ability','recover','endurance','tolerance','power','force','powerful','improve','recur','advance','better','boost','correct','develop','enhance','help','increase','lift','progress','promote','raise','recover','reform','revamp','revise','rise','upgrade','ameliorate','amend','augment','civilize','convalesce','cultivate','edit','elevate','emend','meliorate','mend','polish','purify','rally','rectify','recuperate','refine','sharpen','skyrocket','update','come around','doctor up','gain ground','look up','make strides','perk up','pick up','set right','shape up','straighten out','take off','touch up','turn the corner','preparedness','prevention','protect','resilience']"
   ]
  },
  {
   "cell_type": "code",
   "execution_count": 7,
   "metadata": {
    "collapsed": true
   },
   "outputs": [],
   "source": [
    "# \"_w\" stands for \"weak\"\n",
    "feature_1_1 = (poverty, reduce, achieve)\n",
    "feature_1_2 = (poverty, proportion, reduce)\n",
    "feature_1_3 = (social_protection,)\n",
    "feature_1_3_w = (vulnerable, achieve)\n",
    "feature_1_4 = (poverty, economic_resource)\n",
    "feature_1_4_w = (equal_right, vulnerable)\n",
    "feature_1_5 = (poverty, extreme_event)\n",
    "feature_1_5_w = (resilience, vulnerable)"
   ]
  },
  {
   "cell_type": "code",
   "execution_count": 8,
   "metadata": {
    "collapsed": true
   },
   "outputs": [],
   "source": [
    "# match features to sentences from Cambodia\n",
    "def match_feature(strong, sentences, weak = None):\n",
    "    n = 0\n",
    "    l = []\n",
    "    while n < len(strong):\n",
    "        for f in strong[n]:\n",
    "            for s in sentences:\n",
    "                if f in s:\n",
    "                    l.append(s)\n",
    "        l = list(set(l))\n",
    "        sentences = l[:]\n",
    "        n += 1\n",
    "        l = []\n",
    "    if weak:\n",
    "        n = 0\n",
    "        l = []\n",
    "        while n < len(weak):\n",
    "            for f in weak[n]:\n",
    "                for s in sentences:\n",
    "                    if f in s:\n",
    "                        l.append(s)\n",
    "            n += 1\n",
    "        sentences = list(set(l))\n",
    "    return sentences"
   ]
  },
  {
   "cell_type": "code",
   "execution_count": 49,
   "metadata": {
    "collapsed": false,
    "scrolled": true
   },
   "outputs": [
    {
     "data": {
      "text/plain": [
       "378"
      ]
     },
     "execution_count": 49,
     "metadata": {},
     "output_type": "execute_result"
    }
   ],
   "source": [
    "# take 1.3 as example\n",
    "# feature 3 has weak feature\n",
    "matched = match_feature(feature_1_3, sentence, feature_1_3_w)\n",
    "len(matched)"
   ]
  },
  {
   "cell_type": "code",
   "execution_count": 50,
   "metadata": {
    "collapsed": false
   },
   "outputs": [
    {
     "data": {
      "text/plain": [
       "['further expanding occupational risk insurance and making arrangements to implement health insurance scheme for workers, employees and their dependents, and pension fund for workers and employees.',\n",
       " 'strengthen technical capacity of technical staff at all levels on environmental impact assessment.',\n",
       " '15 capacity building for village development committee on the option of resistant and reduce climate change and the on acceptable science awareness in the rural areas.',\n",
       " 'second, they require to be made in the public sector to provide coordinated support to expand and diversify the economic base, in particular of the rural economies, the hinterland and remote areas to alleviate poverty, continue mitigating the adverse effects of the global downturn (especially on the poor), support expansion and efficient delivery of the social sector services (to achieve cmdg targets), and strengthen the capacity of rgc institutions to deliver their programs and services efficiently.',\n",
       " 'cambodia has joined several international conventions, including 12 conventions and protocols on the fight against terrorism, other conventions regarding the protection of the rights of workers and human rights, environmental conservation and protection, reduction and control of light weapons, nuclear weapons and chemical weapons proliferation.']"
      ]
     },
     "execution_count": 50,
     "metadata": {},
     "output_type": "execute_result"
    }
   ],
   "source": [
    "matched[:5]"
   ]
  },
  {
   "cell_type": "code",
   "execution_count": 10,
   "metadata": {
    "collapsed": false
   },
   "outputs": [
    {
     "data": {
      "text/html": [
       "<div>\n",
       "<table border=\"1\" class=\"dataframe\">\n",
       "  <thead>\n",
       "    <tr style=\"text-align: right;\">\n",
       "      <th></th>\n",
       "      <th>No.</th>\n",
       "      <th>Doc</th>\n",
       "      <th>Goal</th>\n",
       "      <th>Page</th>\n",
       "      <th>Content</th>\n",
       "    </tr>\n",
       "  </thead>\n",
       "  <tbody>\n",
       "    <tr>\n",
       "      <th>0</th>\n",
       "      <td>1.0</td>\n",
       "      <td>NSDP</td>\n",
       "      <td>1.1</td>\n",
       "      <td>105.0</td>\n",
       "      <td>Achieving more than 1 percentage point reducti...</td>\n",
       "    </tr>\n",
       "    <tr>\n",
       "      <th>1</th>\n",
       "      <td>2.0</td>\n",
       "      <td>NSDP</td>\n",
       "      <td>1.2</td>\n",
       "      <td>105.0</td>\n",
       "      <td>Achieving more than 1 percentage point reducti...</td>\n",
       "    </tr>\n",
       "    <tr>\n",
       "      <th>2</th>\n",
       "      <td>3.0</td>\n",
       "      <td>NSDP</td>\n",
       "      <td>1.3</td>\n",
       "      <td>193.0</td>\n",
       "      <td>strengthening the social protection system to ...</td>\n",
       "    </tr>\n",
       "    <tr>\n",
       "      <th>3</th>\n",
       "      <td>4.0</td>\n",
       "      <td>NSPS</td>\n",
       "      <td>1.3</td>\n",
       "      <td>NaN</td>\n",
       "      <td>Expand coverage of IDPoor to all rural househo...</td>\n",
       "    </tr>\n",
       "    <tr>\n",
       "      <th>4</th>\n",
       "      <td>5.0</td>\n",
       "      <td>NaN</td>\n",
       "      <td>1.4</td>\n",
       "      <td>NaN</td>\n",
       "      <td>Intensify land reforms, focusing on strengthen...</td>\n",
       "    </tr>\n",
       "  </tbody>\n",
       "</table>\n",
       "</div>"
      ],
      "text/plain": [
       "   No.   Doc  Goal   Page                                            Content\n",
       "0  1.0  NSDP   1.1  105.0  Achieving more than 1 percentage point reducti...\n",
       "1  2.0  NSDP   1.2  105.0  Achieving more than 1 percentage point reducti...\n",
       "2  3.0  NSDP   1.3  193.0  strengthening the social protection system to ...\n",
       "3  4.0  NSPS   1.3    NaN  Expand coverage of IDPoor to all rural househo...\n",
       "4  5.0   NaN   1.4    NaN  Intensify land reforms, focusing on strengthen..."
      ]
     },
     "execution_count": 10,
     "metadata": {},
     "output_type": "execute_result"
    }
   ],
   "source": [
    "import pandas as pd\n",
    "# golden standard\n",
    "cambodia_gs = pd.ExcelFile(r'C:\\\\Users\\\\DD\\\\OneDrive\\\\Documents\\\\Rapid_Assessment_Tools\\\\Features\\\\Cambodia Reviewed.xlsx')\n",
    "# gs.sheet_names\n",
    "gs = cambodia_gs.parse(\"Sheet1\")\n",
    "gs.head()"
   ]
  },
  {
   "cell_type": "code",
   "execution_count": 11,
   "metadata": {
    "collapsed": true
   },
   "outputs": [],
   "source": [
    "# extract goldent standard by input goal number\n",
    "def golden_standard(df, goal:int):\n",
    "    g = df.loc[df['Goal'] == goal, 'Content']\n",
    "    i = 0\n",
    "    l = []\n",
    "    while i < len(g):\n",
    "        l.append(g.iloc[i])\n",
    "        i += 1\n",
    "    return l"
   ]
  },
  {
   "cell_type": "code",
   "execution_count": 52,
   "metadata": {
    "collapsed": false
   },
   "outputs": [
    {
     "data": {
      "text/plain": [
       "['strengthening the social protection system to be more interconnected and coordinated and consolidate it as an integrated, consistent, and efficient system covering both the public and private sectors, including a clear cut division of roles distinguishing between policymaking, regulation and operations',\n",
       " 'Expand coverage of IDPoor to all rural households and provide updated Lists of Poor Households every two years.']"
      ]
     },
     "execution_count": 52,
     "metadata": {},
     "output_type": "execute_result"
    }
   ],
   "source": [
    "gs_list = golden_standard(gs, 1.3)\n",
    "gs_list"
   ]
  },
  {
   "cell_type": "code",
   "execution_count": 19,
   "metadata": {
    "collapsed": true
   },
   "outputs": [],
   "source": [
    "# find golden standars in which item in matched list, if exist\n",
    "def find_gs(gs_list, matched_list):\n",
    "    l = []\n",
    "    for sentence in matched_list:\n",
    "        for gs in gs_list:\n",
    "            if gs.lower() in sentence:\n",
    "                l.append(matched_list.index(sentence))\n",
    "    if len(l) == 0:\n",
    "        return None\n",
    "    return l"
   ]
  },
  {
   "cell_type": "code",
   "execution_count": 57,
   "metadata": {
    "collapsed": false
   },
   "outputs": [
    {
     "data": {
      "text/html": [
       "<div>\n",
       "<table border=\"1\" class=\"dataframe\">\n",
       "  <thead>\n",
       "    <tr style=\"text-align: right;\">\n",
       "      <th></th>\n",
       "      <th>Number</th>\n",
       "      <th>Content</th>\n",
       "    </tr>\n",
       "  </thead>\n",
       "  <tbody>\n",
       "    <tr>\n",
       "      <th>0</th>\n",
       "      <td>1.1</td>\n",
       "      <td>By 2030, eradicate extreme poverty for all peo...</td>\n",
       "    </tr>\n",
       "    <tr>\n",
       "      <th>1</th>\n",
       "      <td>1.2</td>\n",
       "      <td>By 2030, reduce at least by half the proportio...</td>\n",
       "    </tr>\n",
       "    <tr>\n",
       "      <th>2</th>\n",
       "      <td>1.3</td>\n",
       "      <td>Implement nationally appropriate social protec...</td>\n",
       "    </tr>\n",
       "    <tr>\n",
       "      <th>3</th>\n",
       "      <td>1.4</td>\n",
       "      <td>By 2030, ensure that all men and women, in par...</td>\n",
       "    </tr>\n",
       "    <tr>\n",
       "      <th>4</th>\n",
       "      <td>1.5</td>\n",
       "      <td>By 2030, build the resilience of the poor and ...</td>\n",
       "    </tr>\n",
       "  </tbody>\n",
       "</table>\n",
       "</div>"
      ],
      "text/plain": [
       "   Number                                            Content\n",
       "0     1.1  By 2030, eradicate extreme poverty for all peo...\n",
       "1     1.2  By 2030, reduce at least by half the proportio...\n",
       "2     1.3  Implement nationally appropriate social protec...\n",
       "3     1.4  By 2030, ensure that all men and women, in par...\n",
       "4     1.5  By 2030, build the resilience of the poor and ..."
      ]
     },
     "execution_count": 57,
     "metadata": {},
     "output_type": "execute_result"
    }
   ],
   "source": [
    "# goals\n",
    "sdg_goal = pd.ExcelFile(r'C:\\\\Users\\\\DD\\\\OneDrive\\\\Documents\\\\Rapid_Assessment_Tools\\\\Features\\\\SDG_Goal.xlsx')\n",
    "# sheet_names\n",
    "goals = sdg_goal.parse(\"Sheet1\")\n",
    "goals.head()"
   ]
  },
  {
   "cell_type": "code",
   "execution_count": 58,
   "metadata": {
    "collapsed": false
   },
   "outputs": [
    {
     "data": {
      "text/plain": [
       "'Implement nationally appropriate social protection systems and measures for all, including floors, and by 2030 achieve substantial coverage of the poor and the vulnerable\\xa0'"
      ]
     },
     "execution_count": 58,
     "metadata": {},
     "output_type": "execute_result"
    }
   ],
   "source": [
    "# target goal, for example 1.3\n",
    "goal = goals.loc[goals['Number'] == 1.3, 'Content'].item()\n",
    "goal"
   ]
  },
  {
   "cell_type": "code",
   "execution_count": 62,
   "metadata": {
    "collapsed": true
   },
   "outputs": [],
   "source": [
    "# calculate similarity, TFiDF\n",
    "from sklearn.feature_extraction.text import TfidfVectorizer\n",
    "vect = TfidfVectorizer(min_df=1)\n",
    "\n",
    "def goal_similarity(matched_list, goal, ind_list = None):\n",
    "    l = matched_list[:]\n",
    "    l.insert(0, goal.lower())\n",
    "    tfidf = vect.fit_transform(l)\n",
    "    t = (tfidf * tfidf.T).A\n",
    "    ls = []\n",
    "    i = 0\n",
    "    if ind_list:\n",
    "        j = 0\n",
    "        while j < len(ind_list):\n",
    "            threshold = t[0][ind_list[j]+1]\n",
    "            while i < len(t):\n",
    "                if t[0][i] >= threshold:\n",
    "                    ls.append([i, t[j][i], l[i]])\n",
    "                i += 1\n",
    "            j += 1\n",
    "        # ls = list(set(ls))\n",
    "        return ls\n",
    "    if not ind_list:\n",
    "        while i < len(t):\n",
    "            ls.append([i, t[0][i], l[i]])\n",
    "            i += 1\n",
    "        return ls"
   ]
  },
  {
   "cell_type": "code",
   "execution_count": 60,
   "metadata": {
    "collapsed": false
   },
   "outputs": [
    {
     "data": {
      "text/plain": [
       "[195]"
      ]
     },
     "execution_count": 60,
     "metadata": {},
     "output_type": "execute_result"
    }
   ],
   "source": [
    "# check if golden standard is in matched list\n",
    "ind_list = find_gs(gs_list, matched)\n",
    "ind_list"
   ]
  },
  {
   "cell_type": "code",
   "execution_count": 61,
   "metadata": {
    "collapsed": false
   },
   "outputs": [
    {
     "data": {
      "text/plain": [
       "False"
      ]
     },
     "execution_count": 61,
     "metadata": {},
     "output_type": "execute_result"
    }
   ],
   "source": [
    "# sometimes, 'True' because did not stem\n",
    "ind_list == None"
   ]
  },
  {
   "cell_type": "code",
   "execution_count": 63,
   "metadata": {
    "collapsed": false
   },
   "outputs": [
    {
     "data": {
      "text/plain": [
       "54"
      ]
     },
     "execution_count": 63,
     "metadata": {},
     "output_type": "execute_result"
    }
   ],
   "source": [
    "# if golden standard is not in matched list, function \"goal_similarity\" will not filter but sorting \n",
    "ls = goal_similarity(matched, goal, ind_list)\n",
    "len(ls)"
   ]
  },
  {
   "cell_type": "code",
   "execution_count": 64,
   "metadata": {
    "collapsed": true
   },
   "outputs": [],
   "source": [
    "df = pd.DataFrame(ls, columns=['index', 'similarity', 'sentence'])\n",
    "df.to_csv(dirc+'result_1.3.csv', sep=',')"
   ]
  },
  {
   "cell_type": "code",
   "execution_count": 65,
   "metadata": {
    "collapsed": false
   },
   "outputs": [
    {
     "data": {
      "text/html": [
       "<div>\n",
       "<table border=\"1\" class=\"dataframe\">\n",
       "  <thead>\n",
       "    <tr style=\"text-align: right;\">\n",
       "      <th></th>\n",
       "      <th>index</th>\n",
       "      <th>similarity</th>\n",
       "      <th>sentence</th>\n",
       "    </tr>\n",
       "  </thead>\n",
       "  <tbody>\n",
       "    <tr>\n",
       "      <th>0</th>\n",
       "      <td>0</td>\n",
       "      <td>1.000000</td>\n",
       "      <td>implement nationally appropriate social protec...</td>\n",
       "    </tr>\n",
       "    <tr>\n",
       "      <th>1</th>\n",
       "      <td>4</td>\n",
       "      <td>0.137907</td>\n",
       "      <td>second, they require to be made in the public ...</td>\n",
       "    </tr>\n",
       "    <tr>\n",
       "      <th>2</th>\n",
       "      <td>6</td>\n",
       "      <td>0.109913</td>\n",
       "      <td>this will consist of: (1) a policy and legal e...</td>\n",
       "    </tr>\n",
       "    <tr>\n",
       "      <th>3</th>\n",
       "      <td>22</td>\n",
       "      <td>0.168073</td>\n",
       "      <td>strengthening and expanding the coverage of th...</td>\n",
       "    </tr>\n",
       "    <tr>\n",
       "      <th>4</th>\n",
       "      <td>27</td>\n",
       "      <td>0.137516</td>\n",
       "      <td>184 card will ensure that in planning for and ...</td>\n",
       "    </tr>\n",
       "  </tbody>\n",
       "</table>\n",
       "</div>"
      ],
      "text/plain": [
       "   index  similarity                                           sentence\n",
       "0      0    1.000000  implement nationally appropriate social protec...\n",
       "1      4    0.137907  second, they require to be made in the public ...\n",
       "2      6    0.109913  this will consist of: (1) a policy and legal e...\n",
       "3     22    0.168073  strengthening and expanding the coverage of th...\n",
       "4     27    0.137516  184 card will ensure that in planning for and ..."
      ]
     },
     "execution_count": 65,
     "metadata": {},
     "output_type": "execute_result"
    }
   ],
   "source": [
    "df.head()"
   ]
  },
  {
   "cell_type": "code",
   "execution_count": 66,
   "metadata": {
    "collapsed": false
   },
   "outputs": [
    {
     "name": "stderr",
     "output_type": "stream",
     "text": [
      "C:\\Users\\DD\\Anaconda3\\lib\\site-packages\\ipykernel\\__main__.py:1: FutureWarning: sort(columns=....) is deprecated, use sort_values(by=.....)\n",
      "  if __name__ == '__main__':\n"
     ]
    }
   ],
   "source": [
    "df_check = df.sort(columns='similarity', ascending=False)"
   ]
  },
  {
   "cell_type": "code",
   "execution_count": 67,
   "metadata": {
    "collapsed": false
   },
   "outputs": [
    {
     "data": {
      "text/html": [
       "<div>\n",
       "<table border=\"1\" class=\"dataframe\">\n",
       "  <thead>\n",
       "    <tr style=\"text-align: right;\">\n",
       "      <th></th>\n",
       "      <th>index</th>\n",
       "      <th>similarity</th>\n",
       "      <th>sentence</th>\n",
       "    </tr>\n",
       "  </thead>\n",
       "  <tbody>\n",
       "    <tr>\n",
       "      <th>0</th>\n",
       "      <td>0</td>\n",
       "      <td>1.000000</td>\n",
       "      <td>implement nationally appropriate social protec...</td>\n",
       "    </tr>\n",
       "    <tr>\n",
       "      <th>45</th>\n",
       "      <td>308</td>\n",
       "      <td>0.290443</td>\n",
       "      <td>ensure universal coverage by effective and app...</td>\n",
       "    </tr>\n",
       "    <tr>\n",
       "      <th>39</th>\n",
       "      <td>284</td>\n",
       "      <td>0.212967</td>\n",
       "      <td>improve food access for the poor and vulnerabl...</td>\n",
       "    </tr>\n",
       "    <tr>\n",
       "      <th>33</th>\n",
       "      <td>231</td>\n",
       "      <td>0.210648</td>\n",
       "      <td>further promoting and developing a mechanism f...</td>\n",
       "    </tr>\n",
       "    <tr>\n",
       "      <th>7</th>\n",
       "      <td>44</td>\n",
       "      <td>0.197608</td>\n",
       "      <td>improving the social protection policy framewo...</td>\n",
       "    </tr>\n",
       "    <tr>\n",
       "      <th>27</th>\n",
       "      <td>178</td>\n",
       "      <td>0.192834</td>\n",
       "      <td>the key achievement in the strengthening and i...</td>\n",
       "    </tr>\n",
       "    <tr>\n",
       "      <th>50</th>\n",
       "      <td>338</td>\n",
       "      <td>0.186352</td>\n",
       "      <td>stepping up cooperation with relevant developm...</td>\n",
       "    </tr>\n",
       "    <tr>\n",
       "      <th>5</th>\n",
       "      <td>32</td>\n",
       "      <td>0.185409</td>\n",
       "      <td>four major assessments at policy level had bee...</td>\n",
       "    </tr>\n",
       "    <tr>\n",
       "      <th>53</th>\n",
       "      <td>376</td>\n",
       "      <td>0.168653</td>\n",
       "      <td>17 in the fifth legislature of the national as...</td>\n",
       "    </tr>\n",
       "    <tr>\n",
       "      <th>3</th>\n",
       "      <td>22</td>\n",
       "      <td>0.168073</td>\n",
       "      <td>strengthening and expanding the coverage of th...</td>\n",
       "    </tr>\n",
       "  </tbody>\n",
       "</table>\n",
       "</div>"
      ],
      "text/plain": [
       "    index  similarity                                           sentence\n",
       "0       0    1.000000  implement nationally appropriate social protec...\n",
       "45    308    0.290443  ensure universal coverage by effective and app...\n",
       "39    284    0.212967  improve food access for the poor and vulnerabl...\n",
       "33    231    0.210648  further promoting and developing a mechanism f...\n",
       "7      44    0.197608  improving the social protection policy framewo...\n",
       "27    178    0.192834  the key achievement in the strengthening and i...\n",
       "50    338    0.186352  stepping up cooperation with relevant developm...\n",
       "5      32    0.185409  four major assessments at policy level had bee...\n",
       "53    376    0.168653  17 in the fifth legislature of the national as...\n",
       "3      22    0.168073  strengthening and expanding the coverage of th..."
      ]
     },
     "execution_count": 67,
     "metadata": {},
     "output_type": "execute_result"
    }
   ],
   "source": [
    "df_check.head(10)"
   ]
  }
 ],
 "metadata": {
  "anaconda-cloud": {},
  "kernelspec": {
   "display_name": "Python [conda root]",
   "language": "python",
   "name": "conda-root-py"
  },
  "language_info": {
   "codemirror_mode": {
    "name": "ipython",
    "version": 3.0
   },
   "file_extension": ".py",
   "mimetype": "text/x-python",
   "name": "python",
   "nbconvert_exporter": "python",
   "pygments_lexer": "ipython3",
   "version": "3.5.2"
  }
 },
 "nbformat": 4,
 "nbformat_minor": 0
}